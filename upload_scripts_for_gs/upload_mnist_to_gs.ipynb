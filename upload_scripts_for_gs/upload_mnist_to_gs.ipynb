{
  "nbformat": 4,
  "nbformat_minor": 0,
  "metadata": {
    "colab": {
      "provenance": []
    },
    "kernelspec": {
      "name": "python3",
      "display_name": "Python 3"
    },
    "language_info": {
      "name": "python"
    }
  },
  "cells": [
    {
      "cell_type": "code",
      "execution_count": 1,
      "metadata": {
        "colab": {
          "base_uri": "https://localhost:8080/"
        },
        "id": "anid-46FLHzf",
        "outputId": "bbc7d477-2254-4ed1-c0ef-2f4b5664806b"
      },
      "outputs": [
        {
          "output_type": "stream",
          "name": "stdout",
          "text": [
            "Looking in indexes: https://pypi.org/simple, https://us-python.pkg.dev/colab-wheels/public/simple/\n",
            "Collecting tensorflow-datasets==2.1.0\n",
            "  Downloading tensorflow_datasets-2.1.0-py3-none-any.whl (3.1 MB)\n",
            "\u001b[K     |████████████████████████████████| 3.1 MB 16.2 MB/s \n",
            "\u001b[?25hRequirement already satisfied: numpy in /usr/local/lib/python3.7/dist-packages (from tensorflow-datasets==2.1.0) (1.21.6)\n",
            "Requirement already satisfied: protobuf>=3.6.1 in /usr/local/lib/python3.7/dist-packages (from tensorflow-datasets==2.1.0) (3.17.3)\n",
            "Requirement already satisfied: termcolor in /usr/local/lib/python3.7/dist-packages (from tensorflow-datasets==2.1.0) (1.1.0)\n",
            "Requirement already satisfied: attrs>=18.1.0 in /usr/local/lib/python3.7/dist-packages (from tensorflow-datasets==2.1.0) (22.1.0)\n",
            "Requirement already satisfied: requests>=2.19.0 in /usr/local/lib/python3.7/dist-packages (from tensorflow-datasets==2.1.0) (2.23.0)\n",
            "Requirement already satisfied: tqdm in /usr/local/lib/python3.7/dist-packages (from tensorflow-datasets==2.1.0) (4.64.1)\n",
            "Requirement already satisfied: future in /usr/local/lib/python3.7/dist-packages (from tensorflow-datasets==2.1.0) (0.16.0)\n",
            "Requirement already satisfied: absl-py in /usr/local/lib/python3.7/dist-packages (from tensorflow-datasets==2.1.0) (1.2.0)\n",
            "Requirement already satisfied: six in /usr/local/lib/python3.7/dist-packages (from tensorflow-datasets==2.1.0) (1.15.0)\n",
            "Requirement already satisfied: tensorflow-metadata in /usr/local/lib/python3.7/dist-packages (from tensorflow-datasets==2.1.0) (1.10.0)\n",
            "Requirement already satisfied: promise in /usr/local/lib/python3.7/dist-packages (from tensorflow-datasets==2.1.0) (2.3)\n",
            "Requirement already satisfied: wrapt in /usr/local/lib/python3.7/dist-packages (from tensorflow-datasets==2.1.0) (1.14.1)\n",
            "Requirement already satisfied: dill in /usr/local/lib/python3.7/dist-packages (from tensorflow-datasets==2.1.0) (0.3.5.1)\n",
            "Requirement already satisfied: urllib3!=1.25.0,!=1.25.1,<1.26,>=1.21.1 in /usr/local/lib/python3.7/dist-packages (from requests>=2.19.0->tensorflow-datasets==2.1.0) (1.24.3)\n",
            "Requirement already satisfied: chardet<4,>=3.0.2 in /usr/local/lib/python3.7/dist-packages (from requests>=2.19.0->tensorflow-datasets==2.1.0) (3.0.4)\n",
            "Requirement already satisfied: idna<3,>=2.5 in /usr/local/lib/python3.7/dist-packages (from requests>=2.19.0->tensorflow-datasets==2.1.0) (2.10)\n",
            "Requirement already satisfied: certifi>=2017.4.17 in /usr/local/lib/python3.7/dist-packages (from requests>=2.19.0->tensorflow-datasets==2.1.0) (2022.6.15)\n",
            "Requirement already satisfied: googleapis-common-protos<2,>=1.52.0 in /usr/local/lib/python3.7/dist-packages (from tensorflow-metadata->tensorflow-datasets==2.1.0) (1.56.4)\n",
            "Installing collected packages: tensorflow-datasets\n",
            "  Attempting uninstall: tensorflow-datasets\n",
            "    Found existing installation: tensorflow-datasets 4.6.0\n",
            "    Uninstalling tensorflow-datasets-4.6.0:\n",
            "      Successfully uninstalled tensorflow-datasets-4.6.0\n",
            "Successfully installed tensorflow-datasets-2.1.0\n"
          ]
        }
      ],
      "source": [
        "!pip install tensorflow-datasets==2.1.0"
      ]
    },
    {
      "cell_type": "code",
      "source": [
        "import tensorflow_datasets as tfds\n",
        "train_data_mnist = tfds.load(name=\"mnist\", split=\"train\",  data_dir=\"/tmp\")\n",
        "test_data_mnist = tfds.load(name=\"mnist\", split=\"test\",  data_dir=\"/tmp\")"
      ],
      "metadata": {
        "colab": {
          "base_uri": "https://localhost:8080/"
        },
        "id": "_yy2GWlLLNCS",
        "outputId": "b40da114-0878-41c1-dad7-888790ef8a1e"
      },
      "execution_count": 28,
      "outputs": [
        {
          "output_type": "stream",
          "name": "stderr",
          "text": [
            "WARNING:absl:options.experimental_threading is deprecated. Use options.threading instead.\n",
            "WARNING:absl:options.experimental_threading is deprecated. Use options.threading instead.\n",
            "WARNING:absl:options.experimental_threading is deprecated. Use options.threading instead.\n",
            "WARNING:absl:options.experimental_threading is deprecated. Use options.threading instead.\n"
          ]
        }
      ]
    },
    {
      "cell_type": "code",
      "source": [
        "!ls /tmp/mnist/3.0.0/"
      ],
      "metadata": {
        "colab": {
          "base_uri": "https://localhost:8080/"
        },
        "id": "AyC_obDNOVKU",
        "outputId": "acba1a6e-e4da-4b10-df71-0112787a83e2"
      },
      "execution_count": 19,
      "outputs": [
        {
          "output_type": "stream",
          "name": "stdout",
          "text": [
            "dataset_info.json  mnist-test.tfrecord-00000-of-00001\n",
            "image.image.json   mnist-train.tfrecord-00000-of-00001\n"
          ]
        }
      ]
    },
    {
      "cell_type": "code",
      "source": [
        "from google.cloud import storage\n",
        "import os\n",
        "os.environ[\"GOOGLE_APPLICATION_CREDENTIALS\"]=\"sunny-mender-361506-78e64916a7f4.json\" "
      ],
      "metadata": {
        "id": "ZZkXkk9JLWVa"
      },
      "execution_count": 17,
      "outputs": []
    },
    {
      "cell_type": "code",
      "source": [
        "storage_client = storage.Client()\n",
        "\n",
        "buckets = list(storage_client.list_buckets())\n",
        "\n",
        "bucket = storage_client.get_bucket(\"mybucket-bigdl-ece-ntua\") # your bucket name\n",
        "\n",
        "blob = bucket.blob('mnist/3.0.0/mnist-train.tfrecord-00000-of-00001')\n",
        "blob.upload_from_filename(\"/tmp/mnist/3.0.0/mnist-train.tfrecord-00000-of-00001\")\n",
        "print(buckets)\n",
        "\n",
        "blob = bucket.blob('mnist/3.0.0/mnist-test.tfrecord-00000-of-00001')\n",
        "blob.upload_from_filename(\"/tmp/mnist/3.0.0/mnist-test.tfrecord-00000-of-00001\")\n",
        "\n",
        "blob = bucket.blob('mnist/3.0.0/dataset_info.json')\n",
        "blob.upload_from_filename(\"/tmp/mnist/3.0.0/dataset_info.json\")\n",
        "\n",
        "blob = bucket.blob('mnist/3.0.0/image.image.json')\n",
        "blob.upload_from_filename(\"/tmp/mnist/3.0.0/image.image.json\")"
      ],
      "metadata": {
        "colab": {
          "base_uri": "https://localhost:8080/"
        },
        "id": "xwNJCxoAMGy-",
        "outputId": "893e9aaf-1a27-4c1d-8a0e-6abb1eaf3a05"
      },
      "execution_count": 18,
      "outputs": [
        {
          "output_type": "stream",
          "name": "stdout",
          "text": [
            "[<Bucket: dataproc-staging-us-central1-1002170547258-rqpjkl6n>, <Bucket: dataproc-temp-us-central1-1002170547258-lu4ms21b>, <Bucket: mybucket-bigdl-ece-ntua>]\n"
          ]
        }
      ]
    }
  ]
}