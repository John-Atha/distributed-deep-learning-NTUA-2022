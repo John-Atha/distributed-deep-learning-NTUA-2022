{
  "cells": [
    {
      "cell_type": "markdown",
      "metadata": {
        "id": "voMBntim9bMf"
      },
      "source": [
        "## **Environment Preparation**"
      ]
    },
    {
      "cell_type": "markdown",
      "metadata": {
        "id": "ccXnsv_pMCHQ"
      },
      "source": [
        "**Install Java 8**\n",
        "\n",
        "Run the cell on the **Google Colab** to install jdk 1.8.\n",
        "\n",
        "**Note:** if you run this notebook on your computer, root permission is required when running the cell to install Java 8. (You may ignore this cell if Java 8 has already been set up in your computer).\n"
      ]
    },
    {
      "cell_type": "code",
      "metadata": {
        "id": "HWx_0DSnXVhz",
        "outputId": "0fa4e162-4c2b-4d9a-8332-eaa97d0fd021",
        "colab": {
          "base_uri": "https://localhost:8080/"
        }
      },
      "source": [
        "# Install jdk8\n",
        "!apt-get install openjdk-8-jdk-headless -qq > /dev/null\n",
        "import os\n",
        "# Set environment variable JAVA_HOME.\n",
        "os.environ[\"JAVA_HOME\"] = \"/usr/lib/jvm/java-8-openjdk-amd64\"\n",
        "!update-alternatives --set java /usr/lib/jvm/java-8-openjdk-amd64/jre/bin/java\n",
        "!java -version"
      ],
      "execution_count": null,
      "outputs": [
        {
          "output_type": "stream",
          "name": "stdout",
          "text": [
            "update-alternatives: using /usr/lib/jvm/java-8-openjdk-amd64/jre/bin/java to provide /usr/bin/java (java) in manual mode\n",
            "openjdk version \"1.8.0_342\"\n",
            "OpenJDK Runtime Environment (build 1.8.0_342-8u342-b07-0ubuntu1~18.04-b07)\n",
            "OpenJDK 64-Bit Server VM (build 25.342-b07, mixed mode)\n"
          ]
        }
      ]
    },
    {
      "cell_type": "markdown",
      "metadata": {
        "id": "I_OS4HKJMNpv"
      },
      "source": [
        "**Install BigDL Orca**\n",
        "\n",
        "You can install the latest pre-release version using `pip install --pre --upgrade bigdl-orca`. "
      ]
    },
    {
      "cell_type": "code",
      "metadata": {
        "id": "3qfT8CaC51hI",
        "outputId": "6beebc12-c4f5-4c29-c225-040081bcd255",
        "colab": {
          "base_uri": "https://localhost:8080/"
        }
      },
      "source": [
        "# Install latest pre-release version of BigDL Orca \n",
        "# Installing BigDL Orca from pip will automatically install pyspark, bigdl, and their dependencies.\n",
        "!pip install --pre --upgrade bigdl-orca"
      ],
      "execution_count": null,
      "outputs": [
        {
          "output_type": "stream",
          "name": "stdout",
          "text": [
            "Looking in indexes: https://pypi.org/simple, https://us-python.pkg.dev/colab-wheels/public/simple/\n",
            "Collecting bigdl-orca\n",
            "  Downloading bigdl_orca-2.1.0b20220919-py3-none-manylinux1_x86_64.whl (21.9 MB)\n",
            "\u001b[K     |████████████████████████████████| 21.9 MB 1.6 MB/s \n",
            "\u001b[?25hRequirement already satisfied: packaging in /usr/local/lib/python3.7/dist-packages (from bigdl-orca) (21.3)\n",
            "Collecting bigdl-math==0.14.0.dev1\n",
            "  Downloading bigdl_math-0.14.0.dev1-py3-none-manylinux2010_x86_64.whl (35.4 MB)\n",
            "\u001b[K     |████████████████████████████████| 35.4 MB 144 kB/s \n",
            "\u001b[?25hCollecting bigdl-tf==0.14.0.dev1\n",
            "  Downloading bigdl_tf-0.14.0.dev1-py3-none-manylinux2010_x86_64.whl (71.0 MB)\n",
            "\u001b[K     |████████████████████████████████| 71.0 MB 618 bytes/s \n",
            "\u001b[?25hRequirement already satisfied: filelock in /usr/local/lib/python3.7/dist-packages (from bigdl-orca) (3.8.0)\n",
            "Collecting bigdl-dllib==2.1.0b20220919\n",
            "  Downloading bigdl_dllib-2.1.0b20220919-py3-none-manylinux1_x86_64.whl (53.5 MB)\n",
            "\u001b[K     |████████████████████████████████| 53.5 MB 113 kB/s \n",
            "\u001b[?25hRequirement already satisfied: pyzmq in /usr/local/lib/python3.7/dist-packages (from bigdl-orca) (23.2.1)\n",
            "Collecting bigdl-core==2.1.0b20220919\n",
            "  Downloading bigdl_core-2.1.0b20220919-py3-none-manylinux2010_x86_64.whl (48.2 MB)\n",
            "\u001b[K     |████████████████████████████████| 48.2 MB 1.6 MB/s \n",
            "\u001b[?25hCollecting pyspark==2.4.6\n",
            "  Downloading pyspark-2.4.6.tar.gz (218.4 MB)\n",
            "\u001b[K     |████████████████████████████████| 218.4 MB 59 kB/s \n",
            "\u001b[?25hRequirement already satisfied: six>=1.10.0 in /usr/local/lib/python3.7/dist-packages (from bigdl-dllib==2.1.0b20220919->bigdl-orca) (1.15.0)\n",
            "Collecting conda-pack==0.3.1\n",
            "  Downloading conda_pack-0.3.1-py2.py3-none-any.whl (27 kB)\n",
            "Requirement already satisfied: numpy>=1.19.5 in /usr/local/lib/python3.7/dist-packages (from bigdl-dllib==2.1.0b20220919->bigdl-orca) (1.21.6)\n",
            "Requirement already satisfied: setuptools in /usr/local/lib/python3.7/dist-packages (from conda-pack==0.3.1->bigdl-dllib==2.1.0b20220919->bigdl-orca) (57.4.0)\n",
            "Collecting py4j==0.10.7\n",
            "  Downloading py4j-0.10.7-py2.py3-none-any.whl (197 kB)\n",
            "\u001b[K     |████████████████████████████████| 197 kB 12.6 MB/s \n",
            "\u001b[?25hRequirement already satisfied: pyparsing!=3.0.5,>=2.0.2 in /usr/local/lib/python3.7/dist-packages (from packaging->bigdl-orca) (3.0.9)\n",
            "Building wheels for collected packages: pyspark\n",
            "  Building wheel for pyspark (setup.py) ... \u001b[?25l\u001b[?25hdone\n",
            "  Created wheel for pyspark: filename=pyspark-2.4.6-py2.py3-none-any.whl size=218814407 sha256=a437222d72dd8d8ca597d2e83e44adc2b8195b5f1915488004e2eadce892f3a0\n",
            "  Stored in directory: /root/.cache/pip/wheels/f1/42/b0/ba397759613f4feb1611021a2503e60e344e546671b2ae04f8\n",
            "Successfully built pyspark\n",
            "Installing collected packages: py4j, pyspark, conda-pack, bigdl-core, bigdl-tf, bigdl-math, bigdl-dllib, bigdl-orca\n",
            "Successfully installed bigdl-core-2.1.0b20220919 bigdl-dllib-2.1.0b20220919 bigdl-math-0.14.0.dev1 bigdl-orca-2.1.0b20220919 bigdl-tf-0.14.0.dev1 conda-pack-0.3.1 py4j-0.10.7 pyspark-2.4.6\n"
          ]
        }
      ]
    },
    {
      "cell_type": "code",
      "metadata": {
        "id": "uWQaFJBf55LJ",
        "outputId": "3c544589-fa78-4f9c-bae2-52056a1e91bf",
        "colab": {
          "base_uri": "https://localhost:8080/"
        }
      },
      "source": [
        "# Install required dependencies\n",
        "!pip install tensorflow==1.15.0 tensorflow-datasets==2.1.0"
      ],
      "execution_count": null,
      "outputs": [
        {
          "output_type": "stream",
          "name": "stdout",
          "text": [
            "Looking in indexes: https://pypi.org/simple, https://us-python.pkg.dev/colab-wheels/public/simple/\n",
            "Collecting tensorflow==1.15.0\n",
            "  Downloading tensorflow-1.15.0-cp37-cp37m-manylinux2010_x86_64.whl (412.3 MB)\n",
            "\u001b[K     |████████████████████████████████| 412.3 MB 21 kB/s \n",
            "\u001b[?25hCollecting tensorflow-datasets==2.1.0\n",
            "  Downloading tensorflow_datasets-2.1.0-py3-none-any.whl (3.1 MB)\n",
            "\u001b[K     |████████████████████████████████| 3.1 MB 9.9 MB/s \n",
            "\u001b[?25hRequirement already satisfied: grpcio>=1.8.6 in /usr/local/lib/python3.7/dist-packages (from tensorflow==1.15.0) (1.48.1)\n",
            "Collecting keras-applications>=1.0.8\n",
            "  Downloading Keras_Applications-1.0.8-py3-none-any.whl (50 kB)\n",
            "\u001b[K     |████████████████████████████████| 50 kB 5.6 MB/s \n",
            "\u001b[?25hCollecting tensorflow-estimator==1.15.1\n",
            "  Downloading tensorflow_estimator-1.15.1-py2.py3-none-any.whl (503 kB)\n",
            "\u001b[K     |████████████████████████████████| 503 kB 56.2 MB/s \n",
            "\u001b[?25hRequirement already satisfied: termcolor>=1.1.0 in /usr/local/lib/python3.7/dist-packages (from tensorflow==1.15.0) (1.1.0)\n",
            "Requirement already satisfied: wrapt>=1.11.1 in /usr/local/lib/python3.7/dist-packages (from tensorflow==1.15.0) (1.14.1)\n",
            "Collecting tensorboard<1.16.0,>=1.15.0\n",
            "  Downloading tensorboard-1.15.0-py3-none-any.whl (3.8 MB)\n",
            "\u001b[K     |████████████████████████████████| 3.8 MB 29.6 MB/s \n",
            "\u001b[?25hRequirement already satisfied: six>=1.10.0 in /usr/local/lib/python3.7/dist-packages (from tensorflow==1.15.0) (1.15.0)\n",
            "Requirement already satisfied: numpy<2.0,>=1.16.0 in /usr/local/lib/python3.7/dist-packages (from tensorflow==1.15.0) (1.21.6)\n",
            "Requirement already satisfied: absl-py>=0.7.0 in /usr/local/lib/python3.7/dist-packages (from tensorflow==1.15.0) (1.2.0)\n",
            "Requirement already satisfied: keras-preprocessing>=1.0.5 in /usr/local/lib/python3.7/dist-packages (from tensorflow==1.15.0) (1.1.2)\n",
            "Requirement already satisfied: astor>=0.6.0 in /usr/local/lib/python3.7/dist-packages (from tensorflow==1.15.0) (0.8.1)\n",
            "Requirement already satisfied: protobuf>=3.6.1 in /usr/local/lib/python3.7/dist-packages (from tensorflow==1.15.0) (3.17.3)\n",
            "Requirement already satisfied: opt-einsum>=2.3.2 in /usr/local/lib/python3.7/dist-packages (from tensorflow==1.15.0) (3.3.0)\n",
            "Collecting gast==0.2.2\n",
            "  Downloading gast-0.2.2.tar.gz (10 kB)\n",
            "Requirement already satisfied: google-pasta>=0.1.6 in /usr/local/lib/python3.7/dist-packages (from tensorflow==1.15.0) (0.2.0)\n",
            "Requirement already satisfied: wheel>=0.26 in /usr/local/lib/python3.7/dist-packages (from tensorflow==1.15.0) (0.37.1)\n",
            "Requirement already satisfied: promise in /usr/local/lib/python3.7/dist-packages (from tensorflow-datasets==2.1.0) (2.3)\n",
            "Requirement already satisfied: requests>=2.19.0 in /usr/local/lib/python3.7/dist-packages (from tensorflow-datasets==2.1.0) (2.23.0)\n",
            "Requirement already satisfied: tqdm in /usr/local/lib/python3.7/dist-packages (from tensorflow-datasets==2.1.0) (4.64.1)\n",
            "Requirement already satisfied: tensorflow-metadata in /usr/local/lib/python3.7/dist-packages (from tensorflow-datasets==2.1.0) (1.10.0)\n",
            "Requirement already satisfied: attrs>=18.1.0 in /usr/local/lib/python3.7/dist-packages (from tensorflow-datasets==2.1.0) (22.1.0)\n",
            "Requirement already satisfied: dill in /usr/local/lib/python3.7/dist-packages (from tensorflow-datasets==2.1.0) (0.3.5.1)\n",
            "Requirement already satisfied: future in /usr/local/lib/python3.7/dist-packages (from tensorflow-datasets==2.1.0) (0.16.0)\n",
            "Requirement already satisfied: h5py in /usr/local/lib/python3.7/dist-packages (from keras-applications>=1.0.8->tensorflow==1.15.0) (3.1.0)\n",
            "Requirement already satisfied: idna<3,>=2.5 in /usr/local/lib/python3.7/dist-packages (from requests>=2.19.0->tensorflow-datasets==2.1.0) (2.10)\n",
            "Requirement already satisfied: certifi>=2017.4.17 in /usr/local/lib/python3.7/dist-packages (from requests>=2.19.0->tensorflow-datasets==2.1.0) (2022.6.15)\n",
            "Requirement already satisfied: chardet<4,>=3.0.2 in /usr/local/lib/python3.7/dist-packages (from requests>=2.19.0->tensorflow-datasets==2.1.0) (3.0.4)\n",
            "Requirement already satisfied: urllib3!=1.25.0,!=1.25.1,<1.26,>=1.21.1 in /usr/local/lib/python3.7/dist-packages (from requests>=2.19.0->tensorflow-datasets==2.1.0) (1.24.3)\n",
            "Requirement already satisfied: setuptools>=41.0.0 in /usr/local/lib/python3.7/dist-packages (from tensorboard<1.16.0,>=1.15.0->tensorflow==1.15.0) (57.4.0)\n",
            "Requirement already satisfied: werkzeug>=0.11.15 in /usr/local/lib/python3.7/dist-packages (from tensorboard<1.16.0,>=1.15.0->tensorflow==1.15.0) (1.0.1)\n",
            "Requirement already satisfied: markdown>=2.6.8 in /usr/local/lib/python3.7/dist-packages (from tensorboard<1.16.0,>=1.15.0->tensorflow==1.15.0) (3.4.1)\n",
            "Requirement already satisfied: importlib-metadata>=4.4 in /usr/local/lib/python3.7/dist-packages (from markdown>=2.6.8->tensorboard<1.16.0,>=1.15.0->tensorflow==1.15.0) (4.12.0)\n",
            "Requirement already satisfied: zipp>=0.5 in /usr/local/lib/python3.7/dist-packages (from importlib-metadata>=4.4->markdown>=2.6.8->tensorboard<1.16.0,>=1.15.0->tensorflow==1.15.0) (3.8.1)\n",
            "Requirement already satisfied: typing-extensions>=3.6.4 in /usr/local/lib/python3.7/dist-packages (from importlib-metadata>=4.4->markdown>=2.6.8->tensorboard<1.16.0,>=1.15.0->tensorflow==1.15.0) (4.1.1)\n",
            "Requirement already satisfied: cached-property in /usr/local/lib/python3.7/dist-packages (from h5py->keras-applications>=1.0.8->tensorflow==1.15.0) (1.5.2)\n",
            "Requirement already satisfied: googleapis-common-protos<2,>=1.52.0 in /usr/local/lib/python3.7/dist-packages (from tensorflow-metadata->tensorflow-datasets==2.1.0) (1.56.4)\n",
            "Building wheels for collected packages: gast\n",
            "  Building wheel for gast (setup.py) ... \u001b[?25l\u001b[?25hdone\n",
            "  Created wheel for gast: filename=gast-0.2.2-py3-none-any.whl size=7554 sha256=4e0f9c07d2f458ed6a939f444f53a1b0a91df6bb6680eecb62190ae1320ac7e0\n",
            "  Stored in directory: /root/.cache/pip/wheels/21/7f/02/420f32a803f7d0967b48dd823da3f558c5166991bfd204eef3\n",
            "Successfully built gast\n",
            "Installing collected packages: tensorflow-estimator, tensorboard, keras-applications, gast, tensorflow-datasets, tensorflow\n",
            "  Attempting uninstall: tensorflow-estimator\n",
            "    Found existing installation: tensorflow-estimator 2.8.0\n",
            "    Uninstalling tensorflow-estimator-2.8.0:\n",
            "      Successfully uninstalled tensorflow-estimator-2.8.0\n",
            "  Attempting uninstall: tensorboard\n",
            "    Found existing installation: tensorboard 2.8.0\n",
            "    Uninstalling tensorboard-2.8.0:\n",
            "      Successfully uninstalled tensorboard-2.8.0\n",
            "  Attempting uninstall: gast\n",
            "    Found existing installation: gast 0.5.3\n",
            "    Uninstalling gast-0.5.3:\n",
            "      Successfully uninstalled gast-0.5.3\n",
            "  Attempting uninstall: tensorflow-datasets\n",
            "    Found existing installation: tensorflow-datasets 4.6.0\n",
            "    Uninstalling tensorflow-datasets-4.6.0:\n",
            "      Successfully uninstalled tensorflow-datasets-4.6.0\n",
            "  Attempting uninstall: tensorflow\n",
            "    Found existing installation: tensorflow 2.8.2+zzzcolab20220719082949\n",
            "    Uninstalling tensorflow-2.8.2+zzzcolab20220719082949:\n",
            "      Successfully uninstalled tensorflow-2.8.2+zzzcolab20220719082949\n",
            "\u001b[31mERROR: pip's dependency resolver does not currently take into account all the packages that are installed. This behaviour is the source of the following dependency conflicts.\n",
            "tensorflow-probability 0.16.0 requires gast>=0.3.2, but you have gast 0.2.2 which is incompatible.\n",
            "kapre 0.3.7 requires tensorflow>=2.0.0, but you have tensorflow 1.15.0 which is incompatible.\u001b[0m\n",
            "Successfully installed gast-0.2.2 keras-applications-1.0.8 tensorboard-1.15.0 tensorflow-1.15.0 tensorflow-datasets-2.1.0 tensorflow-estimator-1.15.1\n"
          ]
        }
      ]
    },
    {
      "cell_type": "code",
      "source": [
        "pip install 'h5py==2.10.0'"
      ],
      "metadata": {
        "application/vnd.databricks.v1+cell": {
          "title": "",
          "showTitle": false,
          "inputWidgets": {},
          "nuid": "4258b71c-5dc8-4e3c-92bd-6bac6568a31a"
        },
        "colab": {
          "base_uri": "https://localhost:8080/"
        },
        "id": "rAtNliwfvSKB",
        "outputId": "d4d03b53-8d15-4862-e884-f538e1ea39c3"
      },
      "outputs": [
        {
          "output_type": "stream",
          "name": "stdout",
          "text": [
            "Looking in indexes: https://pypi.org/simple, https://us-python.pkg.dev/colab-wheels/public/simple/\n",
            "Collecting h5py==2.10.0\n",
            "  Downloading h5py-2.10.0-cp37-cp37m-manylinux1_x86_64.whl (2.9 MB)\n",
            "\u001b[K     |████████████████████████████████| 2.9 MB 2.1 MB/s \n",
            "\u001b[?25hRequirement already satisfied: numpy>=1.7 in /usr/local/lib/python3.7/dist-packages (from h5py==2.10.0) (1.21.6)\n",
            "Requirement already satisfied: six in /usr/local/lib/python3.7/dist-packages (from h5py==2.10.0) (1.15.0)\n",
            "Installing collected packages: h5py\n",
            "  Attempting uninstall: h5py\n",
            "    Found existing installation: h5py 3.1.0\n",
            "    Uninstalling h5py-3.1.0:\n",
            "      Successfully uninstalled h5py-3.1.0\n",
            "Successfully installed h5py-2.10.0\n"
          ]
        }
      ],
      "execution_count": null
    },
    {
      "cell_type": "code",
      "source": [
        "pip install keras-nightly"
      ],
      "metadata": {
        "application/vnd.databricks.v1+cell": {
          "title": "",
          "showTitle": false,
          "inputWidgets": {},
          "nuid": "fe0e0c9e-0f1e-4d7c-b10d-42e33a57e600"
        },
        "colab": {
          "base_uri": "https://localhost:8080/"
        },
        "id": "DmbjNVdZvSKC",
        "outputId": "8cb4668c-75c1-420d-d96e-90eb9ad695b0"
      },
      "outputs": [
        {
          "output_type": "stream",
          "name": "stdout",
          "text": [
            "Looking in indexes: https://pypi.org/simple, https://us-python.pkg.dev/colab-wheels/public/simple/\n",
            "Collecting keras-nightly\n",
            "  Downloading keras_nightly-2.11.0.dev2022092007-py2.py3-none-any.whl (1.7 MB)\n",
            "\u001b[K     |████████████████████████████████| 1.7 MB 2.1 MB/s \n",
            "\u001b[?25hInstalling collected packages: keras-nightly\n",
            "Successfully installed keras-nightly-2.11.0.dev2022092007\n"
          ]
        }
      ],
      "execution_count": null
    },
    {
      "cell_type": "code",
      "source": [
        "!pip uninstall keras-nightly\n",
        "!pip uninstall -y tensorflow\n",
        "!pip install keras==2.1.6\n",
        "!pip install tensorflow==1.15.0\n",
        "!pip install tensorflow-datasets==3.2.1\n",
        "!pip install h5py==2.10.0"
      ],
      "metadata": {
        "application/vnd.databricks.v1+cell": {
          "title": "",
          "showTitle": false,
          "inputWidgets": {},
          "nuid": "ec4e0f05-cba4-4fb6-8be5-0fb7db9ce664"
        },
        "colab": {
          "base_uri": "https://localhost:8080/"
        },
        "id": "Wrt13rygvSKC",
        "outputId": "7b5118a8-f5ac-4019-ece7-aff54646a65a"
      },
      "outputs": [
        {
          "output_type": "stream",
          "name": "stdout",
          "text": [
            "Found existing installation: keras-nightly 2.11.0.dev2022092007\n",
            "Uninstalling keras-nightly-2.11.0.dev2022092007:\n",
            "  Would remove:\n",
            "    /usr/local/lib/python3.7/dist-packages/keras/*\n",
            "    /usr/local/lib/python3.7/dist-packages/keras_nightly-2.11.0.dev2022092007.dist-info/*\n",
            "  Would not remove (might be manually added):\n",
            "    /usr/local/lib/python3.7/dist-packages/keras/api/_v1/keras/mixed_precision/experimental/__init__.py\n",
            "    /usr/local/lib/python3.7/dist-packages/keras/api/_v2/keras/mixed_precision/experimental/__init__.py\n",
            "    /usr/local/lib/python3.7/dist-packages/keras/api/keras/mixed_precision/experimental/__init__.py\n",
            "    /usr/local/lib/python3.7/dist-packages/keras/combinations.py\n",
            "    /usr/local/lib/python3.7/dist-packages/keras/keras_parameterized.py\n",
            "    /usr/local/lib/python3.7/dist-packages/keras/layers/advanced_activations.py\n",
            "    /usr/local/lib/python3.7/dist-packages/keras/layers/convolutional.py\n",
            "    /usr/local/lib/python3.7/dist-packages/keras/layers/convolutional_recurrent.py\n",
            "    /usr/local/lib/python3.7/dist-packages/keras/layers/core/activity_regularization.py\n",
            "    /usr/local/lib/python3.7/dist-packages/keras/layers/core/dropout.py\n",
            "    /usr/local/lib/python3.7/dist-packages/keras/layers/core/flatten.py\n",
            "    /usr/local/lib/python3.7/dist-packages/keras/layers/core/permute.py\n",
            "    /usr/local/lib/python3.7/dist-packages/keras/layers/core/repeat_vector.py\n",
            "    /usr/local/lib/python3.7/dist-packages/keras/layers/core/reshape.py\n",
            "    /usr/local/lib/python3.7/dist-packages/keras/layers/core/spatial_dropout.py\n",
            "    /usr/local/lib/python3.7/dist-packages/keras/layers/cudnn_recurrent.py\n",
            "    /usr/local/lib/python3.7/dist-packages/keras/layers/dense_attention.py\n",
            "    /usr/local/lib/python3.7/dist-packages/keras/layers/einsum_dense.py\n",
            "    /usr/local/lib/python3.7/dist-packages/keras/layers/embeddings.py\n",
            "    /usr/local/lib/python3.7/dist-packages/keras/layers/legacy_rnn/__init__.py\n",
            "    /usr/local/lib/python3.7/dist-packages/keras/layers/legacy_rnn/rnn_cell_impl.py\n",
            "    /usr/local/lib/python3.7/dist-packages/keras/layers/legacy_rnn/rnn_cell_wrapper_impl.py\n",
            "    /usr/local/lib/python3.7/dist-packages/keras/layers/local.py\n",
            "    /usr/local/lib/python3.7/dist-packages/keras/layers/merge.py\n",
            "    /usr/local/lib/python3.7/dist-packages/keras/layers/multi_head_attention.py\n",
            "    /usr/local/lib/python3.7/dist-packages/keras/layers/pooling.py\n",
            "    /usr/local/lib/python3.7/dist-packages/keras/layers/recurrent.py\n",
            "    /usr/local/lib/python3.7/dist-packages/keras/layers/recurrent_v2.py\n",
            "    /usr/local/lib/python3.7/dist-packages/keras/layers/rnn_cell_wrapper_v2.py\n",
            "    /usr/local/lib/python3.7/dist-packages/keras/layers/wrappers.py\n",
            "    /usr/local/lib/python3.7/dist-packages/keras/metrics.py\n",
            "    /usr/local/lib/python3.7/dist-packages/keras/mixed_precision/get_layer_policy.py\n",
            "    /usr/local/lib/python3.7/dist-packages/keras/mixed_precision/loss_scale.py\n",
            "    /usr/local/lib/python3.7/dist-packages/keras/models.py\n",
            "    /usr/local/lib/python3.7/dist-packages/keras/optimizer_experimental/__init__.py\n",
            "    /usr/local/lib/python3.7/dist-packages/keras/optimizer_experimental/adadelta.py\n",
            "    /usr/local/lib/python3.7/dist-packages/keras/optimizer_experimental/adagrad.py\n",
            "    /usr/local/lib/python3.7/dist-packages/keras/optimizer_experimental/adam.py\n",
            "    /usr/local/lib/python3.7/dist-packages/keras/optimizer_experimental/optimizer.py\n",
            "    /usr/local/lib/python3.7/dist-packages/keras/optimizer_experimental/rmsprop.py\n",
            "    /usr/local/lib/python3.7/dist-packages/keras/optimizer_experimental/sgd.py\n",
            "    /usr/local/lib/python3.7/dist-packages/keras/optimizer_v1.py\n",
            "    /usr/local/lib/python3.7/dist-packages/keras/optimizer_v2/__init__.py\n",
            "    /usr/local/lib/python3.7/dist-packages/keras/optimizer_v2/adadelta.py\n",
            "    /usr/local/lib/python3.7/dist-packages/keras/optimizer_v2/adagrad.py\n",
            "    /usr/local/lib/python3.7/dist-packages/keras/optimizer_v2/adam.py\n",
            "    /usr/local/lib/python3.7/dist-packages/keras/optimizer_v2/adamax.py\n",
            "    /usr/local/lib/python3.7/dist-packages/keras/optimizer_v2/ftrl.py\n",
            "    /usr/local/lib/python3.7/dist-packages/keras/optimizer_v2/gradient_descent.py\n",
            "    /usr/local/lib/python3.7/dist-packages/keras/optimizer_v2/learning_rate_schedule.py\n",
            "    /usr/local/lib/python3.7/dist-packages/keras/optimizer_v2/legacy_learning_rate_decay.py\n",
            "    /usr/local/lib/python3.7/dist-packages/keras/optimizer_v2/nadam.py\n",
            "    /usr/local/lib/python3.7/dist-packages/keras/optimizer_v2/optimizer_v2.py\n",
            "    /usr/local/lib/python3.7/dist-packages/keras/optimizer_v2/rmsprop.py\n",
            "    /usr/local/lib/python3.7/dist-packages/keras/optimizer_v2/utils.py\n",
            "    /usr/local/lib/python3.7/dist-packages/keras/optimizers.py\n",
            "    /usr/local/lib/python3.7/dist-packages/keras/premade/__init__.py\n",
            "    /usr/local/lib/python3.7/dist-packages/keras/premade/linear.py\n",
            "    /usr/local/lib/python3.7/dist-packages/keras/premade/wide_deep.py\n",
            "    /usr/local/lib/python3.7/dist-packages/keras/preprocessing/dataset_utils.py\n",
            "    /usr/local/lib/python3.7/dist-packages/keras/preprocessing/image_dataset.py\n",
            "    /usr/local/lib/python3.7/dist-packages/keras/preprocessing/text_dataset.py\n",
            "    /usr/local/lib/python3.7/dist-packages/keras/preprocessing/timeseries.py\n",
            "    /usr/local/lib/python3.7/dist-packages/keras/saving/saved_model_experimental.py\n",
            "    /usr/local/lib/python3.7/dist-packages/keras/saving/utils_v1/__init__.py\n",
            "    /usr/local/lib/python3.7/dist-packages/keras/saving/utils_v1/export_output.py\n",
            "    /usr/local/lib/python3.7/dist-packages/keras/saving/utils_v1/export_utils.py\n",
            "    /usr/local/lib/python3.7/dist-packages/keras/saving/utils_v1/mode_keys.py\n",
            "    /usr/local/lib/python3.7/dist-packages/keras/saving/utils_v1/signature_def_utils.py\n",
            "    /usr/local/lib/python3.7/dist-packages/keras/saving/utils_v1/unexported_constants.py\n",
            "    /usr/local/lib/python3.7/dist-packages/keras/testing_utils.py\n",
            "    /usr/local/lib/python3.7/dist-packages/keras/type/__init__.py\n",
            "    /usr/local/lib/python3.7/dist-packages/keras/type/types.py\n",
            "    /usr/local/lib/python3.7/dist-packages/keras/utils/all_utils.py\n",
            "    /usr/local/lib/python3.7/dist-packages/keras/utils/multi_gpu_utils.py\n",
            "Proceed (y/n)? y\n",
            "  Successfully uninstalled keras-nightly-2.11.0.dev2022092007\n",
            "Found existing installation: tensorflow 1.15.0\n",
            "Uninstalling tensorflow-1.15.0:\n",
            "  Successfully uninstalled tensorflow-1.15.0\n",
            "Looking in indexes: https://pypi.org/simple, https://us-python.pkg.dev/colab-wheels/public/simple/\n",
            "Collecting keras==2.1.6\n",
            "  Downloading Keras-2.1.6-py2.py3-none-any.whl (339 kB)\n",
            "\u001b[K     |████████████████████████████████| 339 kB 2.1 MB/s \n",
            "\u001b[?25hRequirement already satisfied: numpy>=1.9.1 in /usr/local/lib/python3.7/dist-packages (from keras==2.1.6) (1.21.6)\n",
            "Requirement already satisfied: scipy>=0.14 in /usr/local/lib/python3.7/dist-packages (from keras==2.1.6) (1.7.3)\n",
            "Requirement already satisfied: six>=1.9.0 in /usr/local/lib/python3.7/dist-packages (from keras==2.1.6) (1.15.0)\n",
            "Requirement already satisfied: h5py in /usr/local/lib/python3.7/dist-packages (from keras==2.1.6) (2.10.0)\n",
            "Requirement already satisfied: pyyaml in /usr/local/lib/python3.7/dist-packages (from keras==2.1.6) (6.0)\n",
            "Installing collected packages: keras\n",
            "  Attempting uninstall: keras\n",
            "    Found existing installation: keras 2.8.0\n",
            "    Uninstalling keras-2.8.0:\n",
            "      Successfully uninstalled keras-2.8.0\n",
            "Successfully installed keras-2.1.6\n",
            "Looking in indexes: https://pypi.org/simple, https://us-python.pkg.dev/colab-wheels/public/simple/\n",
            "Collecting tensorflow==1.15.0\n",
            "  Using cached tensorflow-1.15.0-cp37-cp37m-manylinux2010_x86_64.whl (412.3 MB)\n",
            "Requirement already satisfied: wrapt>=1.11.1 in /usr/local/lib/python3.7/dist-packages (from tensorflow==1.15.0) (1.14.1)\n",
            "Requirement already satisfied: absl-py>=0.7.0 in /usr/local/lib/python3.7/dist-packages (from tensorflow==1.15.0) (1.2.0)\n",
            "Requirement already satisfied: numpy<2.0,>=1.16.0 in /usr/local/lib/python3.7/dist-packages (from tensorflow==1.15.0) (1.21.6)\n",
            "Requirement already satisfied: protobuf>=3.6.1 in /usr/local/lib/python3.7/dist-packages (from tensorflow==1.15.0) (3.17.3)\n",
            "Requirement already satisfied: termcolor>=1.1.0 in /usr/local/lib/python3.7/dist-packages (from tensorflow==1.15.0) (1.1.0)\n",
            "Requirement already satisfied: gast==0.2.2 in /usr/local/lib/python3.7/dist-packages (from tensorflow==1.15.0) (0.2.2)\n",
            "Requirement already satisfied: tensorflow-estimator==1.15.1 in /usr/local/lib/python3.7/dist-packages (from tensorflow==1.15.0) (1.15.1)\n",
            "Requirement already satisfied: wheel>=0.26 in /usr/local/lib/python3.7/dist-packages (from tensorflow==1.15.0) (0.37.1)\n",
            "Requirement already satisfied: opt-einsum>=2.3.2 in /usr/local/lib/python3.7/dist-packages (from tensorflow==1.15.0) (3.3.0)\n",
            "Requirement already satisfied: six>=1.10.0 in /usr/local/lib/python3.7/dist-packages (from tensorflow==1.15.0) (1.15.0)\n",
            "Requirement already satisfied: tensorboard<1.16.0,>=1.15.0 in /usr/local/lib/python3.7/dist-packages (from tensorflow==1.15.0) (1.15.0)\n",
            "Requirement already satisfied: astor>=0.6.0 in /usr/local/lib/python3.7/dist-packages (from tensorflow==1.15.0) (0.8.1)\n",
            "Requirement already satisfied: keras-applications>=1.0.8 in /usr/local/lib/python3.7/dist-packages (from tensorflow==1.15.0) (1.0.8)\n",
            "Requirement already satisfied: keras-preprocessing>=1.0.5 in /usr/local/lib/python3.7/dist-packages (from tensorflow==1.15.0) (1.1.2)\n",
            "Requirement already satisfied: grpcio>=1.8.6 in /usr/local/lib/python3.7/dist-packages (from tensorflow==1.15.0) (1.48.1)\n",
            "Requirement already satisfied: google-pasta>=0.1.6 in /usr/local/lib/python3.7/dist-packages (from tensorflow==1.15.0) (0.2.0)\n",
            "Requirement already satisfied: h5py in /usr/local/lib/python3.7/dist-packages (from keras-applications>=1.0.8->tensorflow==1.15.0) (2.10.0)\n",
            "Requirement already satisfied: setuptools>=41.0.0 in /usr/local/lib/python3.7/dist-packages (from tensorboard<1.16.0,>=1.15.0->tensorflow==1.15.0) (57.4.0)\n",
            "Requirement already satisfied: markdown>=2.6.8 in /usr/local/lib/python3.7/dist-packages (from tensorboard<1.16.0,>=1.15.0->tensorflow==1.15.0) (3.4.1)\n",
            "Requirement already satisfied: werkzeug>=0.11.15 in /usr/local/lib/python3.7/dist-packages (from tensorboard<1.16.0,>=1.15.0->tensorflow==1.15.0) (1.0.1)\n",
            "Requirement already satisfied: importlib-metadata>=4.4 in /usr/local/lib/python3.7/dist-packages (from markdown>=2.6.8->tensorboard<1.16.0,>=1.15.0->tensorflow==1.15.0) (4.12.0)\n",
            "Requirement already satisfied: zipp>=0.5 in /usr/local/lib/python3.7/dist-packages (from importlib-metadata>=4.4->markdown>=2.6.8->tensorboard<1.16.0,>=1.15.0->tensorflow==1.15.0) (3.8.1)\n",
            "Requirement already satisfied: typing-extensions>=3.6.4 in /usr/local/lib/python3.7/dist-packages (from importlib-metadata>=4.4->markdown>=2.6.8->tensorboard<1.16.0,>=1.15.0->tensorflow==1.15.0) (4.1.1)\n",
            "Installing collected packages: tensorflow\n",
            "\u001b[31mERROR: pip's dependency resolver does not currently take into account all the packages that are installed. This behaviour is the source of the following dependency conflicts.\n",
            "kapre 0.3.7 requires tensorflow>=2.0.0, but you have tensorflow 1.15.0 which is incompatible.\u001b[0m\n",
            "Successfully installed tensorflow-1.15.0\n",
            "Looking in indexes: https://pypi.org/simple, https://us-python.pkg.dev/colab-wheels/public/simple/\n",
            "Collecting tensorflow-datasets==3.2.1\n",
            "  Downloading tensorflow_datasets-3.2.1-py3-none-any.whl (3.4 MB)\n",
            "\u001b[K     |████████████████████████████████| 3.4 MB 2.1 MB/s \n",
            "\u001b[?25hRequirement already satisfied: future in /usr/local/lib/python3.7/dist-packages (from tensorflow-datasets==3.2.1) (0.16.0)\n",
            "Requirement already satisfied: tqdm in /usr/local/lib/python3.7/dist-packages (from tensorflow-datasets==3.2.1) (4.64.1)\n",
            "Requirement already satisfied: wrapt in /usr/local/lib/python3.7/dist-packages (from tensorflow-datasets==3.2.1) (1.14.1)\n",
            "Requirement already satisfied: requests>=2.19.0 in /usr/local/lib/python3.7/dist-packages (from tensorflow-datasets==3.2.1) (2.23.0)\n",
            "Requirement already satisfied: absl-py in /usr/local/lib/python3.7/dist-packages (from tensorflow-datasets==3.2.1) (1.2.0)\n",
            "Requirement already satisfied: termcolor in /usr/local/lib/python3.7/dist-packages (from tensorflow-datasets==3.2.1) (1.1.0)\n",
            "Requirement already satisfied: attrs>=18.1.0 in /usr/local/lib/python3.7/dist-packages (from tensorflow-datasets==3.2.1) (22.1.0)\n",
            "Requirement already satisfied: dill in /usr/local/lib/python3.7/dist-packages (from tensorflow-datasets==3.2.1) (0.3.5.1)\n",
            "Requirement already satisfied: six in /usr/local/lib/python3.7/dist-packages (from tensorflow-datasets==3.2.1) (1.15.0)\n",
            "Requirement already satisfied: tensorflow-metadata in /usr/local/lib/python3.7/dist-packages (from tensorflow-datasets==3.2.1) (1.10.0)\n",
            "Requirement already satisfied: protobuf>=3.6.1 in /usr/local/lib/python3.7/dist-packages (from tensorflow-datasets==3.2.1) (3.17.3)\n",
            "Requirement already satisfied: promise in /usr/local/lib/python3.7/dist-packages (from tensorflow-datasets==3.2.1) (2.3)\n",
            "Requirement already satisfied: numpy in /usr/local/lib/python3.7/dist-packages (from tensorflow-datasets==3.2.1) (1.21.6)\n",
            "Requirement already satisfied: urllib3!=1.25.0,!=1.25.1,<1.26,>=1.21.1 in /usr/local/lib/python3.7/dist-packages (from requests>=2.19.0->tensorflow-datasets==3.2.1) (1.24.3)\n",
            "Requirement already satisfied: idna<3,>=2.5 in /usr/local/lib/python3.7/dist-packages (from requests>=2.19.0->tensorflow-datasets==3.2.1) (2.10)\n",
            "Requirement already satisfied: certifi>=2017.4.17 in /usr/local/lib/python3.7/dist-packages (from requests>=2.19.0->tensorflow-datasets==3.2.1) (2022.6.15)\n",
            "Requirement already satisfied: chardet<4,>=3.0.2 in /usr/local/lib/python3.7/dist-packages (from requests>=2.19.0->tensorflow-datasets==3.2.1) (3.0.4)\n",
            "Requirement already satisfied: googleapis-common-protos<2,>=1.52.0 in /usr/local/lib/python3.7/dist-packages (from tensorflow-metadata->tensorflow-datasets==3.2.1) (1.56.4)\n",
            "Installing collected packages: tensorflow-datasets\n",
            "  Attempting uninstall: tensorflow-datasets\n",
            "    Found existing installation: tensorflow-datasets 2.1.0\n",
            "    Uninstalling tensorflow-datasets-2.1.0:\n",
            "      Successfully uninstalled tensorflow-datasets-2.1.0\n",
            "Successfully installed tensorflow-datasets-3.2.1\n",
            "Looking in indexes: https://pypi.org/simple, https://us-python.pkg.dev/colab-wheels/public/simple/\n",
            "Requirement already satisfied: h5py==2.10.0 in /usr/local/lib/python3.7/dist-packages (2.10.0)\n",
            "Requirement already satisfied: numpy>=1.7 in /usr/local/lib/python3.7/dist-packages (from h5py==2.10.0) (1.21.6)\n",
            "Requirement already satisfied: six in /usr/local/lib/python3.7/dist-packages (from h5py==2.10.0) (1.15.0)\n"
          ]
        }
      ],
      "execution_count": null
    },
    {
      "cell_type": "markdown",
      "source": [
        "### Imports"
      ],
      "metadata": {
        "application/vnd.databricks.v1+cell": {
          "title": "",
          "showTitle": false,
          "inputWidgets": {},
          "nuid": "5928bed6-7197-4162-ab1b-8fa883dd148a"
        },
        "id": "d_KODIptvSKC"
      }
    },
    {
      "cell_type": "code",
      "source": [
        "import argparse\n",
        "import matplotlib.pyplot as plt\n",
        "from tensorflow import keras\n",
        "from bigdl.orca import init_orca_context, stop_orca_context\n",
        "from bigdl.orca.learn.tf.estimator import Estimator\n",
        "from bigdl.orca import OrcaContext\n",
        "import tensorflow as tf\n",
        "import tensorflow_datasets as tfds\n",
        "import datetime\n",
        "import time\n",
        "from bigdl.orca.learn.tf.estimator import Estimator\n",
        "from tabulate import tabulate\n",
        "OrcaContext.log_output = False\n",
        "# OrcaContext.log_output = True # recommended to set it to True when running BigDL in Jupyter notebook (this will display terminal's  stdout and stderr in the Jupyter notebook)."
      ],
      "metadata": {
        "application/vnd.databricks.v1+cell": {
          "title": "",
          "showTitle": false,
          "inputWidgets": {},
          "nuid": "21001d77-d68f-4110-ae2c-8ae73a14753e"
        },
        "id": "iZj1hRMUvSKE"
      },
      "outputs": [],
      "execution_count": null
    },
    {
      "cell_type": "markdown",
      "source": [
        "## Utils"
      ],
      "metadata": {
        "application/vnd.databricks.v1+cell": {
          "title": "",
          "showTitle": false,
          "inputWidgets": {},
          "nuid": "5e391040-d5ae-4349-b86f-be91a6381cb0"
        },
        "id": "2RG1-seYvSKE"
      }
    },
    {
      "cell_type": "code",
      "source": [
        "def train_test(model=None, train_data=None, test_data=None, preprocess=None, output_model_name=None, save_model=False, epochs=1, cluster_mode=\"local\", num_nodes=2, cores=2):\n",
        "    init_orca_context(cluster_mode=cluster_mode, num_modes=min(3, num_nodes), cores=min(4, cores))\n",
        "    if not model:\n",
        "        model = keras.Sequential(\n",
        "        [keras.layers.Conv2D(20, kernel_size=(5, 5), strides=(1, 1), activation='tanh',\n",
        "                             input_shape=(28, 28, 1), padding='valid'),\n",
        "         keras.layers.MaxPooling2D(pool_size=(2, 2), strides=(2, 2), padding='valid'),\n",
        "         keras.layers.Conv2D(50, kernel_size=(5, 5), strides=(1, 1), activation='tanh',\n",
        "                             padding='valid'),\n",
        "         keras.layers.MaxPooling2D(pool_size=(2, 2), strides=(2, 2), padding='valid'),\n",
        "         keras.layers.Flatten(),\n",
        "         keras.layers.Dense(500, activation='tanh'),\n",
        "         keras.layers.Dense(10, activation='softmax'),\n",
        "         ]\n",
        "        )\n",
        "\n",
        "        model.compile(optimizer=keras.optimizers.RMSprop(),\n",
        "          loss='sparse_categorical_crossentropy',\n",
        "          metrics=['accuracy'])\n",
        "    if not (train_data or test_data):\n",
        "        if not preprocess:\n",
        "            def preprocess(data):\n",
        "              data['image'] = tf.cast(data[\"image\"], tf.float32) / 255.\n",
        "              return data['image'], data['label']\n",
        "\n",
        "        # get DataSet\n",
        "        train_data = tfds.load(name=\"mnist\", split=\"train\", data_dir=\"gs://tfds-data/datasets\")\n",
        "        test_data = tfds.load(name=\"mnist\", split=\"test\", data_dir=\"gs://tfds-data/datasets\")\n",
        "\n",
        "        train_data = train_data.map(preprocess)\n",
        "        test_data = test_data.map(preprocess)\n",
        "    \n",
        "    # Disable AutoShard.\n",
        "    options = tf.data.Options()\n",
        "    options.experimental_distribute.auto_shard = False\n",
        "    train_data = train_data.with_options(options)\n",
        "    test_data = test_data.with_options(options)\n",
        "    \n",
        "    est = Estimator.from_keras(keras_model=model)\n",
        "    #This will come as an argument for the Function\n",
        "    #validation_data will be given as an argument in the Function\n",
        "    tic = time.time()\n",
        "    est.fit(\n",
        "        data=train_data,\n",
        "        batch_size=320,\n",
        "        epochs=epochs,\n",
        "        validation_data=test_data\n",
        "    )\n",
        "    tac = time.time()\n",
        "    fit_time = tac-tic\n",
        "    # evaluate and print result\n",
        "    # result = est.evaluate(test_data)\n",
        "    # print(result)\n",
        "    output_name = \"/tmp/\" + (f\"{output_model_name+str(datetime.datetime.now()) if output_model_name else str(datetime.datetime.now())}.h5\")\n",
        "    output_name = output_name.replace(\" \", \"_\")\n",
        "    if save_model:\n",
        "        est.save_keras_model(output_name)\n",
        "    # return output_name, fit_time, est\n",
        "    return output_name, fit_time\n",
        "\n",
        "def save_output(output_model_name, time, result_estimator):\n",
        "    print(f\"Saving output to: {output_model_name}\")\n",
        "    \n",
        "def visualize_output(output_model_name):\n",
        "    print(f\"Visualizing from: {output_model_name}\")\n",
        "\n",
        "def train_test_save(model=None, train_data=None, test_data=None, preprocess=None, output_model_name=None, save_model=False, epochs=10, cluster_mode=\"local\", num_nodes=2, cores=2):\n",
        "    output_model_name, fit_time = train_test(\n",
        "        model=model,\n",
        "        train_data=train_data,\n",
        "        test_data=test_data,\n",
        "        preprocess=preprocess,\n",
        "        output_model_name=output_model_name,\n",
        "        epochs=epochs,\n",
        "        cluster_mode=cluster_mode,\n",
        "        num_nodes=num_nodes,\n",
        "        cores=cores,\n",
        "        save_model=save_model\n",
        "    )\n",
        "    print(f\"---->>> {output_model_name}, {num_nodes} nodes, {cores} cores, fitted after {fit_time}sec\")\n",
        "    save_output(output_model_name, time, None)\n",
        "    visualize_output(output_model_name)\n",
        "    return output_model_name, fit_time\n",
        "\n",
        "def grid_search(model=None, train_data=None, test_data=None, preprocess=None, output_model_name=None, save_model=False, epochs=10, cluster_mode=\"local\", min_num_nodes=2, max_num_nodes=3, min_cores=1, max_cores=4):\n",
        "    results = []\n",
        "    assert min_num_nodes<=max_num_nodes\n",
        "    assert min_cores<=max_cores\n",
        "    for num_nodes in range(min_num_nodes, max_num_nodes):\n",
        "        for cores in range(min_cores, max_cores):\n",
        "            model_name, fit_time = train_test_save(\n",
        "                model=model,\n",
        "                train_data=train_data,\n",
        "                test_data=test_data,\n",
        "                preprocess=preprocess,\n",
        "                output_model_name=output_model_name,\n",
        "                epochs=epochs,\n",
        "                cluster_mode=cluster_mode,\n",
        "                num_nodes=num_nodes,\n",
        "                cores=cores,\n",
        "                save_model=save_model\n",
        "            )\n",
        "            results.append((model_name, num_nodes, cores, fit_time))\n",
        "    return results\n",
        "\n",
        "def visualize_grid_search(model_name, epochs, results):\n",
        "    xs, ys = [], []\n",
        "    for datum in results:\n",
        "        name, nodes, cores, fit_time = datum\n",
        "        xs.append(f\"{nodes}, {cores}\")\n",
        "        ys.append(fit_time/1000)\n",
        "        plt.bar(xs, ys)\n",
        "    items = zip(xs, ys)\n",
        "    print(items)\n",
        "    print(xs, ys)\n",
        "    print(tabulate(items, tablefmt=\"github\"))\n",
        "    plt.title(f\"{model_name}: {epochs} epochs\")\n",
        "    plt.xlabel(\"Nodes, Cores\")\n",
        "    plt.ylabel(\"Train time (*10^3 sec)\")\n",
        "    plt.plot()\n",
        "\n",
        "def tabulate_grid_search(model_name, epochs, results):\n",
        "    xs, ys = [], []\n",
        "    for datum in results:\n",
        "        name, nodes, cores, fit_time = datum\n",
        "        xs.append(f\"{nodes}, {cores}\")\n",
        "        ys.append(fit_time)\n",
        "    items = zip(xs, ys)\n",
        "    print(model_name)\n",
        "    print(tabulate(items, tablefmt=\"github\", headers=[\"Nodes, Cores\", \"fit_time (sec)\"]))"
      ],
      "metadata": {
        "application/vnd.databricks.v1+cell": {
          "title": "",
          "showTitle": false,
          "inputWidgets": {},
          "nuid": "2fb2b059-9a51-496d-b861-f202274b1537"
        },
        "id": "LUetbuGNvSKF"
      },
      "outputs": [],
      "execution_count": null
    },
    {
      "cell_type": "markdown",
      "source": [
        "### Datasets"
      ],
      "metadata": {
        "application/vnd.databricks.v1+cell": {
          "title": "",
          "showTitle": false,
          "inputWidgets": {},
          "nuid": "2aad5f54-0b5d-4e12-a9a3-a25fe2fc780c"
        },
        "id": "8bk12QlavSKG"
      }
    },
    {
      "cell_type": "code",
      "source": [
        "## MNIST\n",
        "def preprocess(data):\n",
        "    data['image'] = tf.cast(data[\"image\"], tf.float32) / 255.\n",
        "    data['image'] = tf.image.resize(data[\"image\"], (72, 72))\n",
        "    data['image'] = tf.image.grayscale_to_rgb(data[\"image\"])\n",
        "    return data['image'], data['label']\n",
        "\n",
        "# get DataSet\n",
        "train_data_mnist = tfds.load(name=\"mnist\", split=\"train\", data_dir=\"gs://tfds-data/datasets\")\n",
        "test_data_mnist = tfds.load(name=\"mnist\", split=\"test\",  data_dir=\"gs://tfds-data/datasets\")\n",
        "\n",
        "train_data_mnist = train_data_mnist.map(preprocess)\n",
        "test_data_mnist = test_data_mnist.map(preprocess)"
      ],
      "metadata": {
        "application/vnd.databricks.v1+cell": {
          "title": "",
          "showTitle": false,
          "inputWidgets": {},
          "nuid": "273b6232-d2b6-4b9e-ae31-ed1cc817cf96"
        },
        "id": "pBvZAN5svSKH"
      },
      "outputs": [],
      "execution_count": null
    },
    {
      "cell_type": "code",
      "source": [
        "train_data_mnist"
      ],
      "metadata": {
        "application/vnd.databricks.v1+cell": {
          "title": "",
          "showTitle": false,
          "inputWidgets": {},
          "nuid": "4ec215cd-2ab4-458f-b958-2ecbca134d06"
        },
        "colab": {
          "base_uri": "https://localhost:8080/"
        },
        "id": "xrOs--SCvSKH",
        "outputId": "2056b1c4-8b03-417f-a087-0e581c77c14b"
      },
      "outputs": [
        {
          "output_type": "execute_result",
          "data": {
            "text/plain": [
              "<MapDataset shapes: ((72, 72, 3), ()), types: (tf.float32, tf.int64)>"
            ]
          },
          "metadata": {},
          "execution_count": 14
        }
      ],
      "execution_count": null
    },
    {
      "cell_type": "code",
      "source": [
        "## Camelyon\n",
        "def preprocess_camelyon(data):\n",
        "    data['image'] = tf.cast(data[\"image\"], tf.float32) / 255.\n",
        "    \"\"\"data['image'] = tf.image.resize(data[\"image\"], (72, 72))\n",
        "    data['image'] = tf.image.grayscale_to_rgb(data[\"image\"])\"\"\"\n",
        "    return data['image'], data['label']\n",
        "\n",
        "train_data = tfds.load(name=\"patch_camelyon\", split=\"train\",  data_dir=\"gs://mybucket-bigdl-ece-ntua\")\n",
        "test_data = tfds.load(name=\"patch_camelyon\", split=\"test\",  data_dir=\"gs://mybucket-bigdl-ece-ntua\")\n",
        "\n",
        "train_data = train_data.map(preprocess_camelyon)\n",
        "test_data = test_data.map(preprocess_camelyon)\n"
      ],
      "metadata": {
        "application/vnd.databricks.v1+cell": {
          "title": "",
          "showTitle": false,
          "inputWidgets": {},
          "nuid": "eb0ad9ad-97ae-416c-94ad-6efa93f65e53"
        },
        "id": "l-WuY5H6vSKI"
      },
      "outputs": [],
      "execution_count": null
    },
    {
      "cell_type": "code",
      "source": [
        "train_data"
      ],
      "metadata": {
        "application/vnd.databricks.v1+cell": {
          "title": "",
          "showTitle": false,
          "inputWidgets": {},
          "nuid": "8c54d075-cf79-4e31-a984-b33c7100aefb"
        },
        "colab": {
          "base_uri": "https://localhost:8080/"
        },
        "id": "Dmb7DDFCvSKJ",
        "outputId": "fd2b1954-d281-4ba3-bf9c-6e28bd361387"
      },
      "outputs": [
        {
          "output_type": "execute_result",
          "data": {
            "text/plain": [
              "<MapDataset shapes: ((96, 96, 3), ()), types: (tf.float32, tf.int64)>"
            ]
          },
          "metadata": {},
          "execution_count": 16
        }
      ],
      "execution_count": null
    },
    {
      "cell_type": "markdown",
      "source": [
        "## Fine-tuning utils"
      ],
      "metadata": {
        "application/vnd.databricks.v1+cell": {
          "title": "",
          "showTitle": false,
          "inputWidgets": {},
          "nuid": "10f33f04-4a5d-461c-ab2e-d81fc00f199c"
        },
        "id": "xQZLa1z3vSKJ"
      }
    },
    {
      "cell_type": "code",
      "source": [
        "from tensorflow.keras.applications.inception_v3 import InceptionV3\n",
        "from tensorflow.keras.applications.resnet50 import ResNet50\n",
        "from tensorflow.keras.applications import Xception, MobileNetV2\n",
        "from tensorflow.keras.preprocessing import image\n",
        "from tensorflow.keras.models import Model, Sequential\n",
        "from tensorflow.keras.layers import Dense, GlobalAveragePooling2D, Flatten, GlobalAveragePooling1D, Input\n",
        "from tensorflow.keras.optimizers import SGD\n",
        "from tensorflow.keras.optimizers import RMSprop\n",
        "\n",
        "def init_train_model(base_model_object=MobileNetV2, name=\"MobileNetV2\", min_num_nodes=1, max_num_nodes=2, min_cores=2, max_cores=3, epochs=1, train_data=train_data_mnist, test_data=test_data_mnist):\n",
        "    # create the base pre-trained model\n",
        "    base_model = base_model_object(weights='imagenet', include_top=False)\n",
        "    # model = Xception(weights='imagenet', include_top=False, input_shape=(28, 28, 3))\n",
        "\n",
        "    # add a global spatial average pooling layer\n",
        "    x = base_model.output\n",
        "    x = GlobalAveragePooling2D()(x)\n",
        "    # let's add a fully-connected layer\n",
        "    x = Dense(1024, activation='relu')(x)\n",
        "    # and a logistic layer -- let's say we have 200 classes\n",
        "    predictions = Dense(10, activation='softmax')(x)\n",
        "    # this is the model we will train\n",
        "    model = Model(inputs=base_model.input, outputs=predictions)\n",
        "    # first: train only the top layers (which were randomly initialized)\n",
        "    # i.e. freeze all convolutional layers\n",
        "    for layer in base_model.layers:\n",
        "        layer.trainable = False\n",
        "    # compile the model (should be done *after* setting layers to non-trainable)\n",
        "    # model.compile(optimizer='rmsprop', loss='categorical_crossentropy')\n",
        "    model.compile(optimizer=RMSprop(), loss='categorical_crossentropy')\n",
        "\n",
        "    results_init = grid_search(\n",
        "        model=model,\n",
        "        train_data=train_data,\n",
        "        test_data=test_data,\n",
        "        min_num_nodes=min_num_nodes,\n",
        "        max_num_nodes=max_num_nodes,\n",
        "        min_cores=min_cores,\n",
        "        max_cores=max_cores,\n",
        "        epochs=epochs,\n",
        "        output_model_name=name\n",
        "    )\n",
        "    return base_model, model, results_init\n",
        "\n",
        "def fine_tune(base_model, model, frozen_layers_index, train_data=train_data_mnist, test_data=test_data_mnist, min_num_nodes=2, max_num_nodes=4, min_cores=4, max_cores=5, epochs=2, output_model_name=\"MobileNetV2-fine\"):\n",
        "    # at this point, the top layers are well trained and we can start fine-tuning convolutional layers\n",
        "    # convolutional layers We will freeze the bottom N layers and train the remaining top layers\n",
        "\n",
        "    # let's visualize layer names and layer indices to see how many layers\n",
        "    # we should freeze:\n",
        "    for i, layer in enumerate(base_model.layers):\n",
        "       print(i, layer.name)\n",
        "\n",
        "    # freeze the first (n) layers and unfreeze the rest\n",
        "    for layer in model.layers[:frozen_layers_index]:\n",
        "       layer.trainable = False\n",
        "    for layer in model.layers[frozen_layers_index:]:\n",
        "       layer.trainable = True\n",
        "\n",
        "    # we need to recompile the model for these modifications to take effect\n",
        "    # we use SGD with a low learning rate\n",
        "    model.compile(optimizer=SGD(lr=0.0001, momentum=0.9), loss='categorical_crossentropy')\n",
        "\n",
        "    results_fine_tuning = grid_search(\n",
        "        model=model,\n",
        "        train_data=train_data,\n",
        "        test_data=test_data,\n",
        "        min_num_nodes=min_num_nodes,\n",
        "        max_num_nodes=max_num_nodes,\n",
        "        min_cores=min_cores,\n",
        "        max_cores=max_cores,\n",
        "        epochs=epochs,\n",
        "        output_model_name=output_model_name\n",
        "    )\n",
        "    \n",
        "    return results_fine_tuning"
      ],
      "metadata": {
        "application/vnd.databricks.v1+cell": {
          "title": "",
          "showTitle": false,
          "inputWidgets": {},
          "nuid": "d54aec06-73a6-4c2f-8c71-18af77085604"
        },
        "id": "um16L98gvSKJ"
      },
      "outputs": [],
      "execution_count": null
    },
    {
      "cell_type": "markdown",
      "source": [
        "## Fine-tuning for 1 epoch"
      ],
      "metadata": {
        "application/vnd.databricks.v1+cell": {
          "title": "",
          "showTitle": false,
          "inputWidgets": {},
          "nuid": "b22f72d9-3d4c-49d4-9d08-e621bd221f58"
        },
        "id": "HkeurYZvvSKK"
      }
    },
    {
      "cell_type": "code",
      "source": [
        "name = \"MobileNetV2\"\n",
        "base_model_object = MobileNetV2\n",
        "\n",
        "init_epochs = 1\n",
        "init_min_num_nodes = 1\n",
        "init_max_num_nodes = 2\n",
        "init_min_cores = 1\n",
        "init_max_cores = 5\n",
        "\n",
        "fine_tuning_epochs = 1\n",
        "fine_tuning_min_num_nodes = 1\n",
        "fine_tuning_max_num_nodes = 2\n",
        "fine_tuning_min_cores = 1\n",
        "fine_tuning_max_cores = 5\n",
        "frozen_layers_index = 133\n",
        "\n",
        "current_training_data = train_data_mnist\n",
        "current_test_data = test_data_mnist\n",
        "\n",
        "base_model, model, results_init = init_train_model(\n",
        "    base_model_object=base_model_object,\n",
        "    name=name,\n",
        "    min_num_nodes=init_min_num_nodes,\n",
        "    max_num_nodes=init_max_num_nodes,\n",
        "    min_cores=init_min_cores,\n",
        "    max_cores=init_max_cores,\n",
        "    epochs=init_epochs,\n",
        "    train_data=current_training_data,\n",
        "    test_data=current_test_data\n",
        ")\n",
        "\n",
        "results_fine_tuning = fine_tune(\n",
        "    base_model=base_model,\n",
        "    model=model,\n",
        "    frozen_layers_index=frozen_layers_index,\n",
        "    train_data=current_training_data,\n",
        "    test_data=current_test_data,\n",
        "    min_num_nodes=fine_tuning_min_num_nodes,\n",
        "    max_num_nodes=fine_tuning_max_num_nodes,\n",
        "    min_cores=fine_tuning_min_cores,\n",
        "    max_cores=fine_tuning_max_cores,\n",
        "    epochs=fine_tuning_epochs,\n",
        "    output_model_name=name,\n",
        ")"
      ],
      "metadata": {
        "application/vnd.databricks.v1+cell": {
          "title": "",
          "showTitle": false,
          "inputWidgets": {},
          "nuid": "8ee4758c-e84e-464d-a502-90dd64ea6102"
        },
        "colab": {
          "base_uri": "https://localhost:8080/"
        },
        "id": "_WncQ_yFvSKK",
        "outputId": "17063e47-3323-4843-8a30-13f87552d77c"
      },
      "outputs": [
        {
          "output_type": "stream",
          "name": "stderr",
          "text": [
            "/usr/local/lib/python3.7/dist-packages/keras_applications/mobilenet_v2.py:294: UserWarning: `input_shape` is undefined or non-square, or `rows` is not in [96, 128, 160, 192, 224]. Weights for input shape (224, 224) will be loaded as the default.\n",
            "  warnings.warn('`input_shape` is undefined or non-square, '\n",
            "WARNING:tensorflow:From /usr/local/lib/python3.7/dist-packages/tensorflow_core/python/ops/resource_variable_ops.py:1630: calling BaseResourceVariable.__init__ (from tensorflow.python.ops.resource_variable_ops) with constraint is deprecated and will be removed in a future version.\n",
            "Instructions for updating:\n",
            "If using Keras pass *_constraint arguments to layers.\n"
          ]
        },
        {
          "output_type": "stream",
          "name": "stdout",
          "text": [
            "Downloading data from https://github.com/JonathanCMitchell/mobilenet_v2_keras/releases/download/v1.1/mobilenet_v2_weights_tf_dim_ordering_tf_kernels_1.0_224_no_top.h5\n",
            "9412608/9406464 [==============================] - 1s 0us/step\n",
            "Initializing orca context\n",
            "Current pyspark location is : /usr/local/lib/python3.7/dist-packages/pyspark/__init__.py\n",
            "Start to getOrCreate SparkContext\n",
            "pyspark_submit_args is:  --driver-class-path /usr/local/lib/python3.7/dist-packages/bigdl/share/orca/lib/bigdl-orca-spark_2.4.6-2.1.0-SNAPSHOT-jar-with-dependencies.jar:/usr/local/lib/python3.7/dist-packages/bigdl/share/dllib/lib/bigdl-dllib-spark_2.4.6-2.1.0-SNAPSHOT-jar-with-dependencies.jar:/usr/local/lib/python3.7/dist-packages/bigdl/share/core/lib/all-2.1.0-20220830.075029-19.jar pyspark-shell \n",
            "Successfully got a SparkContext\n"
          ]
        },
        {
          "output_type": "stream",
          "name": "stderr",
          "text": [
            "WARNING:tensorflow:From /usr/local/lib/python3.7/dist-packages/bigdl/orca/tfpark/tf_dataset.py:762: The name tf.get_default_graph is deprecated. Please use tf.compat.v1.get_default_graph instead.\n",
            "\n",
            "WARNING:tensorflow:From /usr/local/lib/python3.7/dist-packages/bigdl/orca/tfpark/tf_dataset.py:830: The name tf.placeholder is deprecated. Please use tf.compat.v1.placeholder instead.\n",
            "\n",
            "WARNING:tensorflow:From /usr/local/lib/python3.7/dist-packages/bigdl/orca/tfpark/tf_dataset.py:863: The name tf.tables_initializer is deprecated. Please use tf.compat.v1.tables_initializer instead.\n",
            "\n",
            "WARNING:tensorflow:From /usr/local/lib/python3.7/dist-packages/bigdl/orca/tfpark/tf_dataset.py:220: The name tf.add_to_collection is deprecated. Please use tf.compat.v1.add_to_collection instead.\n",
            "\n",
            "WARNING:tensorflow:From /usr/local/lib/python3.7/dist-packages/bigdl/orca/tfpark/tf_optimizer.py:673: The name tf.keras.backend.get_session is deprecated. Please use tf.compat.v1.keras.backend.get_session instead.\n",
            "\n",
            "WARNING:tensorflow:From /usr/local/lib/python3.7/dist-packages/bigdl/orca/tfpark/tf_optimizer.py:299: to_float (from tensorflow.python.ops.math_ops) is deprecated and will be removed in a future version.\n",
            "Instructions for updating:\n",
            "Use `tf.cast` instead.\n",
            "WARNING:tensorflow:From /usr/local/lib/python3.7/dist-packages/bigdl/orca/tfpark/tf_optimizer.py:191: The name tf.GraphKeys is deprecated. Please use tf.compat.v1.GraphKeys instead.\n",
            "\n",
            "WARNING:tensorflow:From /usr/local/lib/python3.7/dist-packages/bigdl/orca/tfpark/tf_optimizer.py:206: The name tf.assign is deprecated. Please use tf.compat.v1.assign instead.\n",
            "\n"
          ]
        },
        {
          "output_type": "stream",
          "name": "stdout",
          "text": [
            "creating: createFakeOptimMethod\n"
          ]
        },
        {
          "output_type": "stream",
          "name": "stderr",
          "text": [
            "WARNING:tensorflow:From /usr/local/lib/python3.7/dist-packages/bigdl/orca/tfpark/tf_optimizer.py:247: The name tf.train.Saver is deprecated. Please use tf.compat.v1.train.Saver instead.\n",
            "\n",
            "WARNING:tensorflow:From /usr/local/lib/python3.7/dist-packages/bigdl/orca/tfpark/tf_optimizer.py:289: The name tf.gfile.GFile is deprecated. Please use tf.io.gfile.GFile instead.\n",
            "\n"
          ]
        },
        {
          "output_type": "stream",
          "name": "stdout",
          "text": [
            "creating: createTFTrainingHelper\n",
            "creating: createIdentityCriterion\n",
            "creating: createEstimator\n",
            "creating: createMaxEpoch\n",
            "creating: createEveryEpoch\n",
            "---->>> /tmp/MobileNetV22022-09-20_13:19:58.599090.h5, 1 nodes, 1 cores, fitted after 385.751003742218sec\n",
            "Saving output to: /tmp/MobileNetV22022-09-20_13:19:58.599090.h5\n",
            "Visualizing from: /tmp/MobileNetV22022-09-20_13:19:58.599090.h5\n",
            "Initializing orca context\n"
          ]
        },
        {
          "output_type": "stream",
          "name": "stderr",
          "text": [
            "/usr/local/lib/python3.7/dist-packages/bigdl/orca/common.py:251: Warning: Use an existing SparkContext, cluster_mode is determined by the existing SparkContext\n",
            "  \"cluster_mode is determined by the existing SparkContext\", Warning)\n"
          ]
        },
        {
          "output_type": "stream",
          "name": "stdout",
          "text": [
            "creating: createFakeOptimMethod\n",
            "creating: createTFTrainingHelper\n",
            "creating: createIdentityCriterion\n",
            "creating: createEstimator\n",
            "creating: createMaxEpoch\n",
            "creating: createEveryEpoch\n",
            "---->>> /tmp/MobileNetV22022-09-20_13:26:27.390319.h5, 1 nodes, 2 cores, fitted after 388.73739194869995sec\n",
            "Saving output to: /tmp/MobileNetV22022-09-20_13:26:27.390319.h5\n",
            "Visualizing from: /tmp/MobileNetV22022-09-20_13:26:27.390319.h5\n",
            "Initializing orca context\n"
          ]
        },
        {
          "output_type": "stream",
          "name": "stderr",
          "text": [
            "/usr/local/lib/python3.7/dist-packages/bigdl/orca/common.py:251: Warning: Use an existing SparkContext, cluster_mode is determined by the existing SparkContext\n",
            "  \"cluster_mode is determined by the existing SparkContext\", Warning)\n"
          ]
        },
        {
          "output_type": "stream",
          "name": "stdout",
          "text": [
            "creating: createFakeOptimMethod\n",
            "creating: createTFTrainingHelper\n",
            "creating: createIdentityCriterion\n",
            "creating: createEstimator\n",
            "creating: createMaxEpoch\n",
            "creating: createEveryEpoch\n",
            "---->>> /tmp/MobileNetV22022-09-20_13:32:37.561684.h5, 1 nodes, 3 cores, fitted after 370.12916111946106sec\n",
            "Saving output to: /tmp/MobileNetV22022-09-20_13:32:37.561684.h5\n",
            "Visualizing from: /tmp/MobileNetV22022-09-20_13:32:37.561684.h5\n",
            "Initializing orca context\n"
          ]
        },
        {
          "output_type": "stream",
          "name": "stderr",
          "text": [
            "/usr/local/lib/python3.7/dist-packages/bigdl/orca/common.py:251: Warning: Use an existing SparkContext, cluster_mode is determined by the existing SparkContext\n",
            "  \"cluster_mode is determined by the existing SparkContext\", Warning)\n"
          ]
        },
        {
          "output_type": "stream",
          "name": "stdout",
          "text": [
            "creating: createFakeOptimMethod\n",
            "creating: createTFTrainingHelper\n",
            "creating: createIdentityCriterion\n",
            "creating: createEstimator\n",
            "creating: createMaxEpoch\n",
            "creating: createEveryEpoch\n",
            "---->>> /tmp/MobileNetV22022-09-20_13:38:45.612552.h5, 1 nodes, 4 cores, fitted after 368.00459241867065sec\n",
            "Saving output to: /tmp/MobileNetV22022-09-20_13:38:45.612552.h5\n",
            "Visualizing from: /tmp/MobileNetV22022-09-20_13:38:45.612552.h5\n",
            "0 input_1\n",
            "1 Conv1_pad\n",
            "2 Conv1\n",
            "3 bn_Conv1\n",
            "4 Conv1_relu\n",
            "5 expanded_conv_depthwise\n",
            "6 expanded_conv_depthwise_BN\n",
            "7 expanded_conv_depthwise_relu\n",
            "8 expanded_conv_project\n",
            "9 expanded_conv_project_BN\n",
            "10 block_1_expand\n",
            "11 block_1_expand_BN\n",
            "12 block_1_expand_relu\n",
            "13 block_1_pad\n",
            "14 block_1_depthwise\n",
            "15 block_1_depthwise_BN\n",
            "16 block_1_depthwise_relu\n",
            "17 block_1_project\n",
            "18 block_1_project_BN\n",
            "19 block_2_expand\n",
            "20 block_2_expand_BN\n",
            "21 block_2_expand_relu\n",
            "22 block_2_depthwise\n",
            "23 block_2_depthwise_BN\n",
            "24 block_2_depthwise_relu\n",
            "25 block_2_project\n",
            "26 block_2_project_BN\n",
            "27 block_2_add\n",
            "28 block_3_expand\n",
            "29 block_3_expand_BN\n",
            "30 block_3_expand_relu\n",
            "31 block_3_pad\n",
            "32 block_3_depthwise\n",
            "33 block_3_depthwise_BN\n",
            "34 block_3_depthwise_relu\n",
            "35 block_3_project\n",
            "36 block_3_project_BN\n",
            "37 block_4_expand\n",
            "38 block_4_expand_BN\n",
            "39 block_4_expand_relu\n",
            "40 block_4_depthwise\n",
            "41 block_4_depthwise_BN\n",
            "42 block_4_depthwise_relu\n",
            "43 block_4_project\n",
            "44 block_4_project_BN\n",
            "45 block_4_add\n",
            "46 block_5_expand\n",
            "47 block_5_expand_BN\n",
            "48 block_5_expand_relu\n",
            "49 block_5_depthwise\n",
            "50 block_5_depthwise_BN\n",
            "51 block_5_depthwise_relu\n",
            "52 block_5_project\n",
            "53 block_5_project_BN\n",
            "54 block_5_add\n",
            "55 block_6_expand\n",
            "56 block_6_expand_BN\n",
            "57 block_6_expand_relu\n",
            "58 block_6_pad\n",
            "59 block_6_depthwise\n",
            "60 block_6_depthwise_BN\n",
            "61 block_6_depthwise_relu\n",
            "62 block_6_project\n",
            "63 block_6_project_BN\n",
            "64 block_7_expand\n",
            "65 block_7_expand_BN\n",
            "66 block_7_expand_relu\n",
            "67 block_7_depthwise\n",
            "68 block_7_depthwise_BN\n",
            "69 block_7_depthwise_relu\n",
            "70 block_7_project\n",
            "71 block_7_project_BN\n",
            "72 block_7_add\n",
            "73 block_8_expand\n",
            "74 block_8_expand_BN\n",
            "75 block_8_expand_relu\n",
            "76 block_8_depthwise\n",
            "77 block_8_depthwise_BN\n",
            "78 block_8_depthwise_relu\n",
            "79 block_8_project\n",
            "80 block_8_project_BN\n",
            "81 block_8_add\n",
            "82 block_9_expand\n",
            "83 block_9_expand_BN\n",
            "84 block_9_expand_relu\n",
            "85 block_9_depthwise\n",
            "86 block_9_depthwise_BN\n",
            "87 block_9_depthwise_relu\n",
            "88 block_9_project\n",
            "89 block_9_project_BN\n",
            "90 block_9_add\n",
            "91 block_10_expand\n",
            "92 block_10_expand_BN\n",
            "93 block_10_expand_relu\n",
            "94 block_10_depthwise\n",
            "95 block_10_depthwise_BN\n",
            "96 block_10_depthwise_relu\n",
            "97 block_10_project\n",
            "98 block_10_project_BN\n",
            "99 block_11_expand\n",
            "100 block_11_expand_BN\n",
            "101 block_11_expand_relu\n",
            "102 block_11_depthwise\n",
            "103 block_11_depthwise_BN\n",
            "104 block_11_depthwise_relu\n",
            "105 block_11_project\n",
            "106 block_11_project_BN\n",
            "107 block_11_add\n",
            "108 block_12_expand\n",
            "109 block_12_expand_BN\n",
            "110 block_12_expand_relu\n",
            "111 block_12_depthwise\n",
            "112 block_12_depthwise_BN\n",
            "113 block_12_depthwise_relu\n",
            "114 block_12_project\n",
            "115 block_12_project_BN\n",
            "116 block_12_add\n",
            "117 block_13_expand\n",
            "118 block_13_expand_BN\n",
            "119 block_13_expand_relu\n",
            "120 block_13_pad\n",
            "121 block_13_depthwise\n",
            "122 block_13_depthwise_BN\n",
            "123 block_13_depthwise_relu\n",
            "124 block_13_project\n",
            "125 block_13_project_BN\n",
            "126 block_14_expand\n",
            "127 block_14_expand_BN\n",
            "128 block_14_expand_relu\n",
            "129 block_14_depthwise\n",
            "130 block_14_depthwise_BN\n",
            "131 block_14_depthwise_relu\n",
            "132 block_14_project\n",
            "133 block_14_project_BN\n",
            "134 block_14_add\n",
            "135 block_15_expand\n",
            "136 block_15_expand_BN\n",
            "137 block_15_expand_relu\n",
            "138 block_15_depthwise\n",
            "139 block_15_depthwise_BN\n",
            "140 block_15_depthwise_relu\n",
            "141 block_15_project\n",
            "142 block_15_project_BN\n",
            "143 block_15_add\n",
            "144 block_16_expand\n",
            "145 block_16_expand_BN\n",
            "146 block_16_expand_relu\n",
            "147 block_16_depthwise\n",
            "148 block_16_depthwise_BN\n",
            "149 block_16_depthwise_relu\n",
            "150 block_16_project\n",
            "151 block_16_project_BN\n",
            "152 Conv_1\n",
            "153 Conv_1_bn\n",
            "154 out_relu\n",
            "Initializing orca context\n"
          ]
        },
        {
          "output_type": "stream",
          "name": "stderr",
          "text": [
            "/usr/local/lib/python3.7/dist-packages/bigdl/orca/common.py:251: Warning: Use an existing SparkContext, cluster_mode is determined by the existing SparkContext\n",
            "  \"cluster_mode is determined by the existing SparkContext\", Warning)\n"
          ]
        },
        {
          "output_type": "stream",
          "name": "stdout",
          "text": [
            "creating: createFakeOptimMethod\n",
            "creating: createTFTrainingHelper\n",
            "creating: createIdentityCriterion\n",
            "creating: createEstimator\n",
            "creating: createMaxEpoch\n",
            "creating: createEveryEpoch\n",
            "---->>> /tmp/MobileNetV22022-09-20_13:46:30.126468.h5, 1 nodes, 1 cores, fitted after 464.13040113449097sec\n",
            "Saving output to: /tmp/MobileNetV22022-09-20_13:46:30.126468.h5\n",
            "Visualizing from: /tmp/MobileNetV22022-09-20_13:46:30.126468.h5\n",
            "Initializing orca context\n"
          ]
        },
        {
          "output_type": "stream",
          "name": "stderr",
          "text": [
            "/usr/local/lib/python3.7/dist-packages/bigdl/orca/common.py:251: Warning: Use an existing SparkContext, cluster_mode is determined by the existing SparkContext\n",
            "  \"cluster_mode is determined by the existing SparkContext\", Warning)\n"
          ]
        },
        {
          "output_type": "stream",
          "name": "stdout",
          "text": [
            "creating: createFakeOptimMethod\n",
            "creating: createTFTrainingHelper\n",
            "creating: createIdentityCriterion\n",
            "creating: createEstimator\n",
            "creating: createMaxEpoch\n",
            "creating: createEveryEpoch\n",
            "---->>> /tmp/MobileNetV22022-09-20_13:54:15.469978.h5, 1 nodes, 2 cores, fitted after 465.29864525794983sec\n",
            "Saving output to: /tmp/MobileNetV22022-09-20_13:54:15.469978.h5\n",
            "Visualizing from: /tmp/MobileNetV22022-09-20_13:54:15.469978.h5\n",
            "Initializing orca context\n"
          ]
        },
        {
          "output_type": "stream",
          "name": "stderr",
          "text": [
            "/usr/local/lib/python3.7/dist-packages/bigdl/orca/common.py:251: Warning: Use an existing SparkContext, cluster_mode is determined by the existing SparkContext\n",
            "  \"cluster_mode is determined by the existing SparkContext\", Warning)\n"
          ]
        },
        {
          "output_type": "stream",
          "name": "stdout",
          "text": [
            "creating: createFakeOptimMethod\n",
            "creating: createTFTrainingHelper\n",
            "creating: createIdentityCriterion\n",
            "creating: createEstimator\n",
            "creating: createMaxEpoch\n",
            "creating: createEveryEpoch\n",
            "---->>> /tmp/MobileNetV22022-09-20_14:02:25.095892.h5, 1 nodes, 3 cores, fitted after 489.59118032455444sec\n",
            "Saving output to: /tmp/MobileNetV22022-09-20_14:02:25.095892.h5\n",
            "Visualizing from: /tmp/MobileNetV22022-09-20_14:02:25.095892.h5\n",
            "Initializing orca context\n"
          ]
        },
        {
          "output_type": "stream",
          "name": "stderr",
          "text": [
            "/usr/local/lib/python3.7/dist-packages/bigdl/orca/common.py:251: Warning: Use an existing SparkContext, cluster_mode is determined by the existing SparkContext\n",
            "  \"cluster_mode is determined by the existing SparkContext\", Warning)\n"
          ]
        },
        {
          "output_type": "stream",
          "name": "stdout",
          "text": [
            "creating: createFakeOptimMethod\n",
            "creating: createTFTrainingHelper\n",
            "creating: createIdentityCriterion\n",
            "creating: createEstimator\n",
            "creating: createMaxEpoch\n",
            "creating: createEveryEpoch\n",
            "---->>> /tmp/MobileNetV22022-09-20_14:10:29.166276.h5, 1 nodes, 4 cores, fitted after 484.01571226119995sec\n",
            "Saving output to: /tmp/MobileNetV22022-09-20_14:10:29.166276.h5\n",
            "Visualizing from: /tmp/MobileNetV22022-09-20_14:10:29.166276.h5\n"
          ]
        }
      ],
      "execution_count": null
    },
    {
      "cell_type": "code",
      "source": [
        "visualize_grid_search(f\"{name} init\", init_epochs, results_init)"
      ],
      "metadata": {
        "application/vnd.databricks.v1+cell": {
          "title": "",
          "showTitle": false,
          "inputWidgets": {},
          "nuid": "e257f66c-8662-49f8-8aef-fba6e8807ea2"
        },
        "colab": {
          "base_uri": "https://localhost:8080/",
          "height": 424
        },
        "id": "p9v6ktjsvSKL",
        "outputId": "6365d374-aea6-4446-e590-60bc3b768554"
      },
      "outputs": [
        {
          "output_type": "stream",
          "name": "stdout",
          "text": [
            "<zip object at 0x7fbb92057550>\n",
            "['1, 1', '1, 2', '1, 3', '1, 4'] [0.385751003742218, 0.38873739194869994, 0.37012916111946104, 0.3680045924186707]\n",
            "|------|----------|\n",
            "| 1, 1 | 0.385751 |\n",
            "| 1, 2 | 0.388737 |\n",
            "| 1, 3 | 0.370129 |\n",
            "| 1, 4 | 0.368005 |\n"
          ]
        },
        {
          "output_type": "display_data",
          "data": {
            "text/plain": [
              "<Figure size 432x288 with 1 Axes>"
            ],
            "image/png": "[encoded data removed]"
          },
          "metadata": {
            "needs_background": "light"
          }
        }
      ],
      "execution_count": null
    },
    {
      "cell_type": "code",
      "source": [
        "visualize_grid_search(f\"{name} fine tuning\", fine_tuning_epochs, results_fine_tuning)"
      ],
      "metadata": {
        "application/vnd.databricks.v1+cell": {
          "title": "",
          "showTitle": false,
          "inputWidgets": {},
          "nuid": "addff173-be38-4d00-a9bf-b6f8a16bf6fd"
        },
        "colab": {
          "base_uri": "https://localhost:8080/",
          "height": 424
        },
        "id": "3dd9tWE0vSKL",
        "outputId": "98334bd2-1086-4829-e5fd-7787093799ae"
      },
      "outputs": [
        {
          "output_type": "stream",
          "name": "stdout",
          "text": [
            "<zip object at 0x7fbb91bc2b40>\n",
            "['1, 1', '1, 2', '1, 3', '1, 4'] [0.46413040113449094, 0.46529864525794984, 0.48959118032455445, 0.48401571226119994]\n",
            "|------|----------|\n",
            "| 1, 1 | 0.46413  |\n",
            "| 1, 2 | 0.465299 |\n",
            "| 1, 3 | 0.489591 |\n",
            "| 1, 4 | 0.484016 |\n"
          ]
        },
        {
          "output_type": "display_data",
          "data": {
            "text/plain": [
              "<Figure size 432x288 with 1 Axes>"
            ],
            "image/png": "[encoded data removed]"
          },
          "metadata": {
            "needs_background": "light"
          }
        }
      ],
      "execution_count": null
    },
    {
      "cell_type": "code",
      "source": [
        "tabulate_grid_search(f\"{name} fine tuning\", fine_tuning_epochs, results_fine_tuning)"
      ],
      "metadata": {
        "application/vnd.databricks.v1+cell": {
          "title": "",
          "showTitle": false,
          "inputWidgets": {},
          "nuid": "b6bae4a9-4ca7-4be2-8347-5995a05e55dd"
        },
        "colab": {
          "base_uri": "https://localhost:8080/"
        },
        "id": "4m105leCvSKM",
        "outputId": "6a711c14-f296-4bab-b2ce-584cc3678155"
      },
      "outputs": [
        {
          "output_type": "stream",
          "name": "stdout",
          "text": [
            "MobileNetV2 fine tuning\n",
            "| Nodes, Cores   |   fit_time (sec) |\n",
            "|----------------|------------------|\n",
            "| 1, 1           |          464.13  |\n",
            "| 1, 2           |          465.299 |\n",
            "| 1, 3           |          489.591 |\n",
            "| 1, 4           |          484.016 |\n"
          ]
        }
      ],
      "execution_count": null
    }
  ],
  "metadata": {
    "application/vnd.databricks.v1+notebook": {
      "notebookName": "MobileNetV2_mnist",
      "dashboards": [],
      "notebookMetadata": {
        "pythonIndentUnit": 4
      },
      "language": "python",
      "widgets": {},
      "notebookOrigID": 1855098331502466
    },
    "colab": {
      "provenance": []
    },
    "language_info": {
      "name": "python"
    },
    "kernelspec": {
      "name": "python3",
      "display_name": "Python 3"
    }
  },
  "nbformat": 4,
  "nbformat_minor": 0
}