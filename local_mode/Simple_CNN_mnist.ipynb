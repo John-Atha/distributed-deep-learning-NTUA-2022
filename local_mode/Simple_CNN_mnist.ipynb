{
  "cells": [
    {
      "cell_type": "markdown",
      "metadata": {
        "id": "voMBntim9bMf"
      },
      "source": [
        "## **Environment Preparation**"
      ]
    },
    {
      "cell_type": "markdown",
      "metadata": {
        "id": "ccXnsv_pMCHQ"
      },
      "source": [
        "**Install Java 8**\n",
        "\n",
        "Run the cell on the **Google Colab** to install jdk 1.8.\n",
        "\n",
        "**Note:** if you run this notebook on your computer, root permission is required when running the cell to install Java 8. (You may ignore this cell if Java 8 has already been set up in your computer).\n"
      ]
    },
    {
      "cell_type": "code",
      "metadata": {
        "id": "HWx_0DSnXVhz",
        "outputId": "da1b426e-7246-4aca-b4a9-41d65d812b20",
        "colab": {
          "base_uri": "https://localhost:8080/"
        }
      },
      "source": [
        "# Install jdk8\n",
        "!apt-get install openjdk-8-jdk-headless -qq > /dev/null\n",
        "import os\n",
        "# Set environment variable JAVA_HOME.\n",
        "os.environ[\"JAVA_HOME\"] = \"/usr/lib/jvm/java-8-openjdk-amd64\"\n",
        "!update-alternatives --set java /usr/lib/jvm/java-8-openjdk-amd64/jre/bin/java\n",
        "!java -version"
      ],
      "execution_count": null,
      "outputs": [
        {
          "output_type": "stream",
          "name": "stdout",
          "text": [
            "update-alternatives: using /usr/lib/jvm/java-8-openjdk-amd64/jre/bin/java to provide /usr/bin/java (java) in manual mode\n",
            "openjdk version \"1.8.0_342\"\n",
            "OpenJDK Runtime Environment (build 1.8.0_342-8u342-b07-0ubuntu1~18.04-b07)\n",
            "OpenJDK 64-Bit Server VM (build 25.342-b07, mixed mode)\n"
          ]
        }
      ]
    },
    {
      "cell_type": "markdown",
      "metadata": {
        "id": "I_OS4HKJMNpv"
      },
      "source": [
        "**Install BigDL Orca**\n",
        "\n",
        "You can install the latest pre-release version using `pip install --pre --upgrade bigdl-orca`. "
      ]
    },
    {
      "cell_type": "code",
      "metadata": {
        "id": "3qfT8CaC51hI",
        "outputId": "5f45e274-9f15-4a80-8811-158748aed63d",
        "colab": {
          "base_uri": "https://localhost:8080/"
        }
      },
      "source": [
        "# Install latest pre-release version of BigDL Orca \n",
        "# Installing BigDL Orca from pip will automatically install pyspark, bigdl, and their dependencies.\n",
        "!pip install --pre --upgrade bigdl-orca"
      ],
      "execution_count": null,
      "outputs": [
        {
          "output_type": "stream",
          "name": "stdout",
          "text": [
            "Looking in indexes: https://pypi.org/simple, https://us-python.pkg.dev/colab-wheels/public/simple/\n",
            "Collecting bigdl-orca\n",
            "  Downloading bigdl_orca-2.1.0b20220919-py3-none-manylinux1_x86_64.whl (21.9 MB)\n",
            "\u001b[K     |████████████████████████████████| 21.9 MB 1.3 MB/s \n",
            "\u001b[?25hCollecting bigdl-math==0.14.0.dev1\n",
            "  Downloading bigdl_math-0.14.0.dev1-py3-none-manylinux2010_x86_64.whl (35.4 MB)\n",
            "\u001b[K     |████████████████████████████████| 35.4 MB 125 kB/s \n",
            "\u001b[?25hRequirement already satisfied: pyzmq in /usr/local/lib/python3.7/dist-packages (from bigdl-orca) (23.2.1)\n",
            "Requirement already satisfied: packaging in /usr/local/lib/python3.7/dist-packages (from bigdl-orca) (21.3)\n",
            "Collecting bigdl-dllib==2.1.0b20220919\n",
            "  Downloading bigdl_dllib-2.1.0b20220919-py3-none-manylinux1_x86_64.whl (53.5 MB)\n",
            "\u001b[K     |████████████████████████████████| 53.5 MB 191 kB/s \n",
            "\u001b[?25hRequirement already satisfied: filelock in /usr/local/lib/python3.7/dist-packages (from bigdl-orca) (3.8.0)\n",
            "Collecting bigdl-tf==0.14.0.dev1\n",
            "  Downloading bigdl_tf-0.14.0.dev1-py3-none-manylinux2010_x86_64.whl (71.0 MB)\n",
            "\u001b[K     |████████████████████████████████| 71.0 MB 601 bytes/s \n",
            "\u001b[?25hCollecting conda-pack==0.3.1\n",
            "  Downloading conda_pack-0.3.1-py2.py3-none-any.whl (27 kB)\n",
            "Requirement already satisfied: numpy>=1.19.5 in /usr/local/lib/python3.7/dist-packages (from bigdl-dllib==2.1.0b20220919->bigdl-orca) (1.21.6)\n",
            "Collecting bigdl-core==2.1.0b20220919\n",
            "  Downloading bigdl_core-2.1.0b20220919-py3-none-manylinux2010_x86_64.whl (48.2 MB)\n",
            "\u001b[K     |████████████████████████████████| 48.2 MB 1.5 MB/s \n",
            "\u001b[?25hRequirement already satisfied: six>=1.10.0 in /usr/local/lib/python3.7/dist-packages (from bigdl-dllib==2.1.0b20220919->bigdl-orca) (1.15.0)\n",
            "Collecting pyspark==2.4.6\n",
            "  Downloading pyspark-2.4.6.tar.gz (218.4 MB)\n",
            "\u001b[K     |████████████████████████████████| 218.4 MB 56 kB/s \n",
            "\u001b[?25hRequirement already satisfied: setuptools in /usr/local/lib/python3.7/dist-packages (from conda-pack==0.3.1->bigdl-dllib==2.1.0b20220919->bigdl-orca) (57.4.0)\n",
            "Collecting py4j==0.10.7\n",
            "  Downloading py4j-0.10.7-py2.py3-none-any.whl (197 kB)\n",
            "\u001b[K     |████████████████████████████████| 197 kB 53.5 MB/s \n",
            "\u001b[?25hRequirement already satisfied: pyparsing!=3.0.5,>=2.0.2 in /usr/local/lib/python3.7/dist-packages (from packaging->bigdl-orca) (3.0.9)\n",
            "Building wheels for collected packages: pyspark\n",
            "  Building wheel for pyspark (setup.py) ... \u001b[?25l\u001b[?25hdone\n",
            "  Created wheel for pyspark: filename=pyspark-2.4.6-py2.py3-none-any.whl size=218814407 sha256=5bc78721e4f19a1086e8239c0e290b03b754db996838f2ecbce81baa5e48332c\n",
            "  Stored in directory: /root/.cache/pip/wheels/f1/42/b0/ba397759613f4feb1611021a2503e60e344e546671b2ae04f8\n",
            "Successfully built pyspark\n",
            "Installing collected packages: py4j, pyspark, conda-pack, bigdl-core, bigdl-tf, bigdl-math, bigdl-dllib, bigdl-orca\n",
            "Successfully installed bigdl-core-2.1.0b20220919 bigdl-dllib-2.1.0b20220919 bigdl-math-0.14.0.dev1 bigdl-orca-2.1.0b20220919 bigdl-tf-0.14.0.dev1 conda-pack-0.3.1 py4j-0.10.7 pyspark-2.4.6\n"
          ]
        }
      ]
    },
    {
      "cell_type": "code",
      "metadata": {
        "id": "uWQaFJBf55LJ",
        "outputId": "91540b74-53db-4eb8-bc7f-a69a97883021",
        "colab": {
          "base_uri": "https://localhost:8080/"
        }
      },
      "source": [
        "# Install required dependencies\n",
        "!pip install tensorflow==1.15.0 tensorflow-datasets==2.1.0"
      ],
      "execution_count": null,
      "outputs": [
        {
          "output_type": "stream",
          "name": "stdout",
          "text": [
            "Looking in indexes: https://pypi.org/simple, https://us-python.pkg.dev/colab-wheels/public/simple/\n",
            "Collecting tensorflow==1.15.0\n",
            "  Downloading tensorflow-1.15.0-cp37-cp37m-manylinux2010_x86_64.whl (412.3 MB)\n",
            "\u001b[K     |████████████████████████████████| 412.3 MB 25 kB/s \n",
            "\u001b[?25hCollecting tensorflow-datasets==2.1.0\n",
            "  Downloading tensorflow_datasets-2.1.0-py3-none-any.whl (3.1 MB)\n",
            "\u001b[K     |████████████████████████████████| 3.1 MB 40.9 MB/s \n",
            "\u001b[?25hRequirement already satisfied: six>=1.10.0 in /usr/local/lib/python3.7/dist-packages (from tensorflow==1.15.0) (1.15.0)\n",
            "Requirement already satisfied: grpcio>=1.8.6 in /usr/local/lib/python3.7/dist-packages (from tensorflow==1.15.0) (1.48.1)\n",
            "Requirement already satisfied: keras-preprocessing>=1.0.5 in /usr/local/lib/python3.7/dist-packages (from tensorflow==1.15.0) (1.1.2)\n",
            "Requirement already satisfied: numpy<2.0,>=1.16.0 in /usr/local/lib/python3.7/dist-packages (from tensorflow==1.15.0) (1.21.6)\n",
            "Requirement already satisfied: wrapt>=1.11.1 in /usr/local/lib/python3.7/dist-packages (from tensorflow==1.15.0) (1.14.1)\n",
            "Requirement already satisfied: opt-einsum>=2.3.2 in /usr/local/lib/python3.7/dist-packages (from tensorflow==1.15.0) (3.3.0)\n",
            "Requirement already satisfied: protobuf>=3.6.1 in /usr/local/lib/python3.7/dist-packages (from tensorflow==1.15.0) (3.17.3)\n",
            "Requirement already satisfied: google-pasta>=0.1.6 in /usr/local/lib/python3.7/dist-packages (from tensorflow==1.15.0) (0.2.0)\n",
            "Collecting tensorflow-estimator==1.15.1\n",
            "  Downloading tensorflow_estimator-1.15.1-py2.py3-none-any.whl (503 kB)\n",
            "\u001b[K     |████████████████████████████████| 503 kB 37.8 MB/s \n",
            "\u001b[?25hRequirement already satisfied: astor>=0.6.0 in /usr/local/lib/python3.7/dist-packages (from tensorflow==1.15.0) (0.8.1)\n",
            "Requirement already satisfied: termcolor>=1.1.0 in /usr/local/lib/python3.7/dist-packages (from tensorflow==1.15.0) (1.1.0)\n",
            "Requirement already satisfied: absl-py>=0.7.0 in /usr/local/lib/python3.7/dist-packages (from tensorflow==1.15.0) (1.2.0)\n",
            "Collecting gast==0.2.2\n",
            "  Downloading gast-0.2.2.tar.gz (10 kB)\n",
            "Requirement already satisfied: wheel>=0.26 in /usr/local/lib/python3.7/dist-packages (from tensorflow==1.15.0) (0.37.1)\n",
            "Collecting keras-applications>=1.0.8\n",
            "  Downloading Keras_Applications-1.0.8-py3-none-any.whl (50 kB)\n",
            "\u001b[K     |████████████████████████████████| 50 kB 6.9 MB/s \n",
            "\u001b[?25hCollecting tensorboard<1.16.0,>=1.15.0\n",
            "  Downloading tensorboard-1.15.0-py3-none-any.whl (3.8 MB)\n",
            "\u001b[K     |████████████████████████████████| 3.8 MB 48.4 MB/s \n",
            "\u001b[?25hRequirement already satisfied: future in /usr/local/lib/python3.7/dist-packages (from tensorflow-datasets==2.1.0) (0.16.0)\n",
            "Requirement already satisfied: attrs>=18.1.0 in /usr/local/lib/python3.7/dist-packages (from tensorflow-datasets==2.1.0) (22.1.0)\n",
            "Requirement already satisfied: dill in /usr/local/lib/python3.7/dist-packages (from tensorflow-datasets==2.1.0) (0.3.5.1)\n",
            "Requirement already satisfied: tqdm in /usr/local/lib/python3.7/dist-packages (from tensorflow-datasets==2.1.0) (4.64.1)\n",
            "Requirement already satisfied: promise in /usr/local/lib/python3.7/dist-packages (from tensorflow-datasets==2.1.0) (2.3)\n",
            "Requirement already satisfied: tensorflow-metadata in /usr/local/lib/python3.7/dist-packages (from tensorflow-datasets==2.1.0) (1.10.0)\n",
            "Requirement already satisfied: requests>=2.19.0 in /usr/local/lib/python3.7/dist-packages (from tensorflow-datasets==2.1.0) (2.23.0)\n",
            "Requirement already satisfied: h5py in /usr/local/lib/python3.7/dist-packages (from keras-applications>=1.0.8->tensorflow==1.15.0) (3.1.0)\n",
            "Requirement already satisfied: urllib3!=1.25.0,!=1.25.1,<1.26,>=1.21.1 in /usr/local/lib/python3.7/dist-packages (from requests>=2.19.0->tensorflow-datasets==2.1.0) (1.24.3)\n",
            "Requirement already satisfied: chardet<4,>=3.0.2 in /usr/local/lib/python3.7/dist-packages (from requests>=2.19.0->tensorflow-datasets==2.1.0) (3.0.4)\n",
            "Requirement already satisfied: idna<3,>=2.5 in /usr/local/lib/python3.7/dist-packages (from requests>=2.19.0->tensorflow-datasets==2.1.0) (2.10)\n",
            "Requirement already satisfied: certifi>=2017.4.17 in /usr/local/lib/python3.7/dist-packages (from requests>=2.19.0->tensorflow-datasets==2.1.0) (2022.6.15)\n",
            "Requirement already satisfied: setuptools>=41.0.0 in /usr/local/lib/python3.7/dist-packages (from tensorboard<1.16.0,>=1.15.0->tensorflow==1.15.0) (57.4.0)\n",
            "Requirement already satisfied: werkzeug>=0.11.15 in /usr/local/lib/python3.7/dist-packages (from tensorboard<1.16.0,>=1.15.0->tensorflow==1.15.0) (1.0.1)\n",
            "Requirement already satisfied: markdown>=2.6.8 in /usr/local/lib/python3.7/dist-packages (from tensorboard<1.16.0,>=1.15.0->tensorflow==1.15.0) (3.4.1)\n",
            "Requirement already satisfied: importlib-metadata>=4.4 in /usr/local/lib/python3.7/dist-packages (from markdown>=2.6.8->tensorboard<1.16.0,>=1.15.0->tensorflow==1.15.0) (4.12.0)\n",
            "Requirement already satisfied: zipp>=0.5 in /usr/local/lib/python3.7/dist-packages (from importlib-metadata>=4.4->markdown>=2.6.8->tensorboard<1.16.0,>=1.15.0->tensorflow==1.15.0) (3.8.1)\n",
            "Requirement already satisfied: typing-extensions>=3.6.4 in /usr/local/lib/python3.7/dist-packages (from importlib-metadata>=4.4->markdown>=2.6.8->tensorboard<1.16.0,>=1.15.0->tensorflow==1.15.0) (4.1.1)\n",
            "Requirement already satisfied: cached-property in /usr/local/lib/python3.7/dist-packages (from h5py->keras-applications>=1.0.8->tensorflow==1.15.0) (1.5.2)\n",
            "Requirement already satisfied: googleapis-common-protos<2,>=1.52.0 in /usr/local/lib/python3.7/dist-packages (from tensorflow-metadata->tensorflow-datasets==2.1.0) (1.56.4)\n",
            "Building wheels for collected packages: gast\n",
            "  Building wheel for gast (setup.py) ... \u001b[?25l\u001b[?25hdone\n",
            "  Created wheel for gast: filename=gast-0.2.2-py3-none-any.whl size=7554 sha256=8568b8cececc83ac9e563707ad07b13f3f222b20d9d4d9827b562085b6da0baa\n",
            "  Stored in directory: /root/.cache/pip/wheels/21/7f/02/420f32a803f7d0967b48dd823da3f558c5166991bfd204eef3\n",
            "Successfully built gast\n",
            "Installing collected packages: tensorflow-estimator, tensorboard, keras-applications, gast, tensorflow-datasets, tensorflow\n",
            "  Attempting uninstall: tensorflow-estimator\n",
            "    Found existing installation: tensorflow-estimator 2.8.0\n",
            "    Uninstalling tensorflow-estimator-2.8.0:\n",
            "      Successfully uninstalled tensorflow-estimator-2.8.0\n",
            "  Attempting uninstall: tensorboard\n",
            "    Found existing installation: tensorboard 2.8.0\n",
            "    Uninstalling tensorboard-2.8.0:\n",
            "      Successfully uninstalled tensorboard-2.8.0\n",
            "  Attempting uninstall: gast\n",
            "    Found existing installation: gast 0.5.3\n",
            "    Uninstalling gast-0.5.3:\n",
            "      Successfully uninstalled gast-0.5.3\n",
            "  Attempting uninstall: tensorflow-datasets\n",
            "    Found existing installation: tensorflow-datasets 4.6.0\n",
            "    Uninstalling tensorflow-datasets-4.6.0:\n",
            "      Successfully uninstalled tensorflow-datasets-4.6.0\n",
            "  Attempting uninstall: tensorflow\n",
            "    Found existing installation: tensorflow 2.8.2+zzzcolab20220719082949\n",
            "    Uninstalling tensorflow-2.8.2+zzzcolab20220719082949:\n",
            "      Successfully uninstalled tensorflow-2.8.2+zzzcolab20220719082949\n",
            "\u001b[31mERROR: pip's dependency resolver does not currently take into account all the packages that are installed. This behaviour is the source of the following dependency conflicts.\n",
            "tensorflow-probability 0.16.0 requires gast>=0.3.2, but you have gast 0.2.2 which is incompatible.\n",
            "kapre 0.3.7 requires tensorflow>=2.0.0, but you have tensorflow 1.15.0 which is incompatible.\u001b[0m\n",
            "Successfully installed gast-0.2.2 keras-applications-1.0.8 tensorboard-1.15.0 tensorflow-1.15.0 tensorflow-datasets-2.1.0 tensorflow-estimator-1.15.1\n"
          ]
        }
      ]
    },
    {
      "cell_type": "code",
      "source": [
        "pip install 'h5py==2.10.0'"
      ],
      "metadata": {
        "application/vnd.databricks.v1+cell": {
          "title": "",
          "showTitle": false,
          "inputWidgets": {},
          "nuid": "4258b71c-5dc8-4e3c-92bd-6bac6568a31a"
        },
        "colab": {
          "base_uri": "https://localhost:8080/"
        },
        "id": "F4tbKCtnpRE2",
        "outputId": "0b299ef2-2edb-489a-e21f-3855ff327874"
      },
      "outputs": [
        {
          "output_type": "stream",
          "name": "stdout",
          "text": [
            "Looking in indexes: https://pypi.org/simple, https://us-python.pkg.dev/colab-wheels/public/simple/\n",
            "Collecting h5py==2.10.0\n",
            "  Downloading h5py-2.10.0-cp37-cp37m-manylinux1_x86_64.whl (2.9 MB)\n",
            "\u001b[K     |████████████████████████████████| 2.9 MB 4.1 MB/s \n",
            "\u001b[?25hRequirement already satisfied: numpy>=1.7 in /usr/local/lib/python3.7/dist-packages (from h5py==2.10.0) (1.21.6)\n",
            "Requirement already satisfied: six in /usr/local/lib/python3.7/dist-packages (from h5py==2.10.0) (1.15.0)\n",
            "Installing collected packages: h5py\n",
            "  Attempting uninstall: h5py\n",
            "    Found existing installation: h5py 3.1.0\n",
            "    Uninstalling h5py-3.1.0:\n",
            "      Successfully uninstalled h5py-3.1.0\n",
            "Successfully installed h5py-2.10.0\n"
          ]
        }
      ],
      "execution_count": null
    },
    {
      "cell_type": "code",
      "source": [
        "pip install keras-nightly"
      ],
      "metadata": {
        "application/vnd.databricks.v1+cell": {
          "title": "",
          "showTitle": false,
          "inputWidgets": {},
          "nuid": "fe0e0c9e-0f1e-4d7c-b10d-42e33a57e600"
        },
        "colab": {
          "base_uri": "https://localhost:8080/"
        },
        "id": "Msj6wBsKpRE2",
        "outputId": "cb6c8403-5ea9-4f60-d66c-9a69854116f7"
      },
      "outputs": [
        {
          "output_type": "stream",
          "name": "stdout",
          "text": [
            "Looking in indexes: https://pypi.org/simple, https://us-python.pkg.dev/colab-wheels/public/simple/\n",
            "Collecting keras-nightly\n",
            "  Downloading keras_nightly-2.11.0.dev2022091907-py2.py3-none-any.whl (1.7 MB)\n",
            "\u001b[K     |████████████████████████████████| 1.7 MB 3.9 MB/s \n",
            "\u001b[?25hInstalling collected packages: keras-nightly\n",
            "Successfully installed keras-nightly-2.11.0.dev2022091907\n"
          ]
        }
      ],
      "execution_count": null
    },
    {
      "cell_type": "code",
      "source": [
        "!pip uninstall keras-nightly\n",
        "!pip uninstall -y tensorflow\n",
        "!pip install keras==2.1.6\n",
        "!pip install tensorflow==1.15.0\n",
        "!pip install tensorflow-datasets==3.2.1\n",
        "!pip install h5py==2.10.0"
      ],
      "metadata": {
        "application/vnd.databricks.v1+cell": {
          "title": "",
          "showTitle": false,
          "inputWidgets": {},
          "nuid": "ec4e0f05-cba4-4fb6-8be5-0fb7db9ce664"
        },
        "colab": {
          "base_uri": "https://localhost:8080/"
        },
        "id": "MwTpzjvlpRE3",
        "outputId": "01ddfb43-8260-4727-d4de-5b81e20a7988"
      },
      "outputs": [
        {
          "output_type": "stream",
          "name": "stdout",
          "text": [
            "Found existing installation: keras-nightly 2.11.0.dev2022091907\n",
            "Uninstalling keras-nightly-2.11.0.dev2022091907:\n",
            "  Would remove:\n",
            "    /usr/local/lib/python3.7/dist-packages/keras/*\n",
            "    /usr/local/lib/python3.7/dist-packages/keras_nightly-2.11.0.dev2022091907.dist-info/*\n",
            "  Would not remove (might be manually added):\n",
            "    /usr/local/lib/python3.7/dist-packages/keras/api/_v1/keras/mixed_precision/experimental/__init__.py\n",
            "    /usr/local/lib/python3.7/dist-packages/keras/api/_v2/keras/mixed_precision/experimental/__init__.py\n",
            "    /usr/local/lib/python3.7/dist-packages/keras/api/keras/mixed_precision/experimental/__init__.py\n",
            "    /usr/local/lib/python3.7/dist-packages/keras/combinations.py\n",
            "    /usr/local/lib/python3.7/dist-packages/keras/keras_parameterized.py\n",
            "    /usr/local/lib/python3.7/dist-packages/keras/layers/advanced_activations.py\n",
            "    /usr/local/lib/python3.7/dist-packages/keras/layers/convolutional.py\n",
            "    /usr/local/lib/python3.7/dist-packages/keras/layers/convolutional_recurrent.py\n",
            "    /usr/local/lib/python3.7/dist-packages/keras/layers/core/activity_regularization.py\n",
            "    /usr/local/lib/python3.7/dist-packages/keras/layers/core/dropout.py\n",
            "    /usr/local/lib/python3.7/dist-packages/keras/layers/core/flatten.py\n",
            "    /usr/local/lib/python3.7/dist-packages/keras/layers/core/permute.py\n",
            "    /usr/local/lib/python3.7/dist-packages/keras/layers/core/repeat_vector.py\n",
            "    /usr/local/lib/python3.7/dist-packages/keras/layers/core/reshape.py\n",
            "    /usr/local/lib/python3.7/dist-packages/keras/layers/core/spatial_dropout.py\n",
            "    /usr/local/lib/python3.7/dist-packages/keras/layers/cudnn_recurrent.py\n",
            "    /usr/local/lib/python3.7/dist-packages/keras/layers/dense_attention.py\n",
            "    /usr/local/lib/python3.7/dist-packages/keras/layers/einsum_dense.py\n",
            "    /usr/local/lib/python3.7/dist-packages/keras/layers/embeddings.py\n",
            "    /usr/local/lib/python3.7/dist-packages/keras/layers/legacy_rnn/__init__.py\n",
            "    /usr/local/lib/python3.7/dist-packages/keras/layers/legacy_rnn/rnn_cell_impl.py\n",
            "    /usr/local/lib/python3.7/dist-packages/keras/layers/legacy_rnn/rnn_cell_wrapper_impl.py\n",
            "    /usr/local/lib/python3.7/dist-packages/keras/layers/local.py\n",
            "    /usr/local/lib/python3.7/dist-packages/keras/layers/merge.py\n",
            "    /usr/local/lib/python3.7/dist-packages/keras/layers/multi_head_attention.py\n",
            "    /usr/local/lib/python3.7/dist-packages/keras/layers/pooling.py\n",
            "    /usr/local/lib/python3.7/dist-packages/keras/layers/recurrent.py\n",
            "    /usr/local/lib/python3.7/dist-packages/keras/layers/recurrent_v2.py\n",
            "    /usr/local/lib/python3.7/dist-packages/keras/layers/rnn_cell_wrapper_v2.py\n",
            "    /usr/local/lib/python3.7/dist-packages/keras/layers/wrappers.py\n",
            "    /usr/local/lib/python3.7/dist-packages/keras/metrics.py\n",
            "    /usr/local/lib/python3.7/dist-packages/keras/mixed_precision/get_layer_policy.py\n",
            "    /usr/local/lib/python3.7/dist-packages/keras/mixed_precision/loss_scale.py\n",
            "    /usr/local/lib/python3.7/dist-packages/keras/models.py\n",
            "    /usr/local/lib/python3.7/dist-packages/keras/optimizer_experimental/__init__.py\n",
            "    /usr/local/lib/python3.7/dist-packages/keras/optimizer_experimental/adadelta.py\n",
            "    /usr/local/lib/python3.7/dist-packages/keras/optimizer_experimental/adagrad.py\n",
            "    /usr/local/lib/python3.7/dist-packages/keras/optimizer_experimental/adam.py\n",
            "    /usr/local/lib/python3.7/dist-packages/keras/optimizer_experimental/optimizer.py\n",
            "    /usr/local/lib/python3.7/dist-packages/keras/optimizer_experimental/rmsprop.py\n",
            "    /usr/local/lib/python3.7/dist-packages/keras/optimizer_experimental/sgd.py\n",
            "    /usr/local/lib/python3.7/dist-packages/keras/optimizer_v1.py\n",
            "    /usr/local/lib/python3.7/dist-packages/keras/optimizer_v2/__init__.py\n",
            "    /usr/local/lib/python3.7/dist-packages/keras/optimizer_v2/adadelta.py\n",
            "    /usr/local/lib/python3.7/dist-packages/keras/optimizer_v2/adagrad.py\n",
            "    /usr/local/lib/python3.7/dist-packages/keras/optimizer_v2/adam.py\n",
            "    /usr/local/lib/python3.7/dist-packages/keras/optimizer_v2/adamax.py\n",
            "    /usr/local/lib/python3.7/dist-packages/keras/optimizer_v2/ftrl.py\n",
            "    /usr/local/lib/python3.7/dist-packages/keras/optimizer_v2/gradient_descent.py\n",
            "    /usr/local/lib/python3.7/dist-packages/keras/optimizer_v2/learning_rate_schedule.py\n",
            "    /usr/local/lib/python3.7/dist-packages/keras/optimizer_v2/legacy_learning_rate_decay.py\n",
            "    /usr/local/lib/python3.7/dist-packages/keras/optimizer_v2/nadam.py\n",
            "    /usr/local/lib/python3.7/dist-packages/keras/optimizer_v2/optimizer_v2.py\n",
            "    /usr/local/lib/python3.7/dist-packages/keras/optimizer_v2/rmsprop.py\n",
            "    /usr/local/lib/python3.7/dist-packages/keras/optimizer_v2/utils.py\n",
            "    /usr/local/lib/python3.7/dist-packages/keras/optimizers.py\n",
            "    /usr/local/lib/python3.7/dist-packages/keras/premade/__init__.py\n",
            "    /usr/local/lib/python3.7/dist-packages/keras/premade/linear.py\n",
            "    /usr/local/lib/python3.7/dist-packages/keras/premade/wide_deep.py\n",
            "    /usr/local/lib/python3.7/dist-packages/keras/preprocessing/dataset_utils.py\n",
            "    /usr/local/lib/python3.7/dist-packages/keras/preprocessing/image_dataset.py\n",
            "    /usr/local/lib/python3.7/dist-packages/keras/preprocessing/text_dataset.py\n",
            "    /usr/local/lib/python3.7/dist-packages/keras/preprocessing/timeseries.py\n",
            "    /usr/local/lib/python3.7/dist-packages/keras/saving/saved_model_experimental.py\n",
            "    /usr/local/lib/python3.7/dist-packages/keras/saving/utils_v1/__init__.py\n",
            "    /usr/local/lib/python3.7/dist-packages/keras/saving/utils_v1/export_output.py\n",
            "    /usr/local/lib/python3.7/dist-packages/keras/saving/utils_v1/export_utils.py\n",
            "    /usr/local/lib/python3.7/dist-packages/keras/saving/utils_v1/mode_keys.py\n",
            "    /usr/local/lib/python3.7/dist-packages/keras/saving/utils_v1/signature_def_utils.py\n",
            "    /usr/local/lib/python3.7/dist-packages/keras/saving/utils_v1/unexported_constants.py\n",
            "    /usr/local/lib/python3.7/dist-packages/keras/testing_utils.py\n",
            "    /usr/local/lib/python3.7/dist-packages/keras/type/__init__.py\n",
            "    /usr/local/lib/python3.7/dist-packages/keras/type/types.py\n",
            "    /usr/local/lib/python3.7/dist-packages/keras/utils/all_utils.py\n",
            "    /usr/local/lib/python3.7/dist-packages/keras/utils/multi_gpu_utils.py\n",
            "Proceed (y/n)? y\n",
            "  Successfully uninstalled keras-nightly-2.11.0.dev2022091907\n",
            "Found existing installation: tensorflow 1.15.0\n",
            "Uninstalling tensorflow-1.15.0:\n",
            "  Successfully uninstalled tensorflow-1.15.0\n",
            "Looking in indexes: https://pypi.org/simple, https://us-python.pkg.dev/colab-wheels/public/simple/\n",
            "Collecting keras==2.1.6\n",
            "  Downloading Keras-2.1.6-py2.py3-none-any.whl (339 kB)\n",
            "\u001b[K     |████████████████████████████████| 339 kB 3.9 MB/s \n",
            "\u001b[?25hRequirement already satisfied: six>=1.9.0 in /usr/local/lib/python3.7/dist-packages (from keras==2.1.6) (1.15.0)\n",
            "Requirement already satisfied: scipy>=0.14 in /usr/local/lib/python3.7/dist-packages (from keras==2.1.6) (1.7.3)\n",
            "Requirement already satisfied: numpy>=1.9.1 in /usr/local/lib/python3.7/dist-packages (from keras==2.1.6) (1.21.6)\n",
            "Requirement already satisfied: pyyaml in /usr/local/lib/python3.7/dist-packages (from keras==2.1.6) (6.0)\n",
            "Requirement already satisfied: h5py in /usr/local/lib/python3.7/dist-packages (from keras==2.1.6) (2.10.0)\n",
            "Installing collected packages: keras\n",
            "  Attempting uninstall: keras\n",
            "    Found existing installation: keras 2.8.0\n",
            "    Uninstalling keras-2.8.0:\n",
            "      Successfully uninstalled keras-2.8.0\n",
            "Successfully installed keras-2.1.6\n",
            "Looking in indexes: https://pypi.org/simple, https://us-python.pkg.dev/colab-wheels/public/simple/\n",
            "Collecting tensorflow==1.15.0\n",
            "  Using cached tensorflow-1.15.0-cp37-cp37m-manylinux2010_x86_64.whl (412.3 MB)\n",
            "Requirement already satisfied: keras-applications>=1.0.8 in /usr/local/lib/python3.7/dist-packages (from tensorflow==1.15.0) (1.0.8)\n",
            "Requirement already satisfied: protobuf>=3.6.1 in /usr/local/lib/python3.7/dist-packages (from tensorflow==1.15.0) (3.17.3)\n",
            "Requirement already satisfied: tensorflow-estimator==1.15.1 in /usr/local/lib/python3.7/dist-packages (from tensorflow==1.15.0) (1.15.1)\n",
            "Requirement already satisfied: grpcio>=1.8.6 in /usr/local/lib/python3.7/dist-packages (from tensorflow==1.15.0) (1.48.1)\n",
            "Requirement already satisfied: termcolor>=1.1.0 in /usr/local/lib/python3.7/dist-packages (from tensorflow==1.15.0) (1.1.0)\n",
            "Requirement already satisfied: astor>=0.6.0 in /usr/local/lib/python3.7/dist-packages (from tensorflow==1.15.0) (0.8.1)\n",
            "Requirement already satisfied: wrapt>=1.11.1 in /usr/local/lib/python3.7/dist-packages (from tensorflow==1.15.0) (1.14.1)\n",
            "Requirement already satisfied: google-pasta>=0.1.6 in /usr/local/lib/python3.7/dist-packages (from tensorflow==1.15.0) (0.2.0)\n",
            "Requirement already satisfied: numpy<2.0,>=1.16.0 in /usr/local/lib/python3.7/dist-packages (from tensorflow==1.15.0) (1.21.6)\n",
            "Requirement already satisfied: gast==0.2.2 in /usr/local/lib/python3.7/dist-packages (from tensorflow==1.15.0) (0.2.2)\n",
            "Requirement already satisfied: six>=1.10.0 in /usr/local/lib/python3.7/dist-packages (from tensorflow==1.15.0) (1.15.0)\n",
            "Requirement already satisfied: wheel>=0.26 in /usr/local/lib/python3.7/dist-packages (from tensorflow==1.15.0) (0.37.1)\n",
            "Requirement already satisfied: opt-einsum>=2.3.2 in /usr/local/lib/python3.7/dist-packages (from tensorflow==1.15.0) (3.3.0)\n",
            "Requirement already satisfied: absl-py>=0.7.0 in /usr/local/lib/python3.7/dist-packages (from tensorflow==1.15.0) (1.2.0)\n",
            "Requirement already satisfied: tensorboard<1.16.0,>=1.15.0 in /usr/local/lib/python3.7/dist-packages (from tensorflow==1.15.0) (1.15.0)\n",
            "Requirement already satisfied: keras-preprocessing>=1.0.5 in /usr/local/lib/python3.7/dist-packages (from tensorflow==1.15.0) (1.1.2)\n",
            "Requirement already satisfied: h5py in /usr/local/lib/python3.7/dist-packages (from keras-applications>=1.0.8->tensorflow==1.15.0) (2.10.0)\n",
            "Requirement already satisfied: werkzeug>=0.11.15 in /usr/local/lib/python3.7/dist-packages (from tensorboard<1.16.0,>=1.15.0->tensorflow==1.15.0) (1.0.1)\n",
            "Requirement already satisfied: setuptools>=41.0.0 in /usr/local/lib/python3.7/dist-packages (from tensorboard<1.16.0,>=1.15.0->tensorflow==1.15.0) (57.4.0)\n",
            "Requirement already satisfied: markdown>=2.6.8 in /usr/local/lib/python3.7/dist-packages (from tensorboard<1.16.0,>=1.15.0->tensorflow==1.15.0) (3.4.1)\n",
            "Requirement already satisfied: importlib-metadata>=4.4 in /usr/local/lib/python3.7/dist-packages (from markdown>=2.6.8->tensorboard<1.16.0,>=1.15.0->tensorflow==1.15.0) (4.12.0)\n",
            "Requirement already satisfied: zipp>=0.5 in /usr/local/lib/python3.7/dist-packages (from importlib-metadata>=4.4->markdown>=2.6.8->tensorboard<1.16.0,>=1.15.0->tensorflow==1.15.0) (3.8.1)\n",
            "Requirement already satisfied: typing-extensions>=3.6.4 in /usr/local/lib/python3.7/dist-packages (from importlib-metadata>=4.4->markdown>=2.6.8->tensorboard<1.16.0,>=1.15.0->tensorflow==1.15.0) (4.1.1)\n",
            "Installing collected packages: tensorflow\n",
            "\u001b[31mERROR: pip's dependency resolver does not currently take into account all the packages that are installed. This behaviour is the source of the following dependency conflicts.\n",
            "kapre 0.3.7 requires tensorflow>=2.0.0, but you have tensorflow 1.15.0 which is incompatible.\u001b[0m\n",
            "Successfully installed tensorflow-1.15.0\n",
            "Looking in indexes: https://pypi.org/simple, https://us-python.pkg.dev/colab-wheels/public/simple/\n",
            "Collecting tensorflow-datasets==3.2.1\n",
            "  Downloading tensorflow_datasets-3.2.1-py3-none-any.whl (3.4 MB)\n",
            "\u001b[K     |████████████████████████████████| 3.4 MB 4.0 MB/s \n",
            "\u001b[?25hRequirement already satisfied: tqdm in /usr/local/lib/python3.7/dist-packages (from tensorflow-datasets==3.2.1) (4.64.1)\n",
            "Requirement already satisfied: promise in /usr/local/lib/python3.7/dist-packages (from tensorflow-datasets==3.2.1) (2.3)\n",
            "Requirement already satisfied: wrapt in /usr/local/lib/python3.7/dist-packages (from tensorflow-datasets==3.2.1) (1.14.1)\n",
            "Requirement already satisfied: numpy in /usr/local/lib/python3.7/dist-packages (from tensorflow-datasets==3.2.1) (1.21.6)\n",
            "Requirement already satisfied: tensorflow-metadata in /usr/local/lib/python3.7/dist-packages (from tensorflow-datasets==3.2.1) (1.10.0)\n",
            "Requirement already satisfied: future in /usr/local/lib/python3.7/dist-packages (from tensorflow-datasets==3.2.1) (0.16.0)\n",
            "Requirement already satisfied: requests>=2.19.0 in /usr/local/lib/python3.7/dist-packages (from tensorflow-datasets==3.2.1) (2.23.0)\n",
            "Requirement already satisfied: termcolor in /usr/local/lib/python3.7/dist-packages (from tensorflow-datasets==3.2.1) (1.1.0)\n",
            "Requirement already satisfied: absl-py in /usr/local/lib/python3.7/dist-packages (from tensorflow-datasets==3.2.1) (1.2.0)\n",
            "Requirement already satisfied: dill in /usr/local/lib/python3.7/dist-packages (from tensorflow-datasets==3.2.1) (0.3.5.1)\n",
            "Requirement already satisfied: six in /usr/local/lib/python3.7/dist-packages (from tensorflow-datasets==3.2.1) (1.15.0)\n",
            "Requirement already satisfied: attrs>=18.1.0 in /usr/local/lib/python3.7/dist-packages (from tensorflow-datasets==3.2.1) (22.1.0)\n",
            "Requirement already satisfied: protobuf>=3.6.1 in /usr/local/lib/python3.7/dist-packages (from tensorflow-datasets==3.2.1) (3.17.3)\n",
            "Requirement already satisfied: urllib3!=1.25.0,!=1.25.1,<1.26,>=1.21.1 in /usr/local/lib/python3.7/dist-packages (from requests>=2.19.0->tensorflow-datasets==3.2.1) (1.24.3)\n",
            "Requirement already satisfied: chardet<4,>=3.0.2 in /usr/local/lib/python3.7/dist-packages (from requests>=2.19.0->tensorflow-datasets==3.2.1) (3.0.4)\n",
            "Requirement already satisfied: certifi>=2017.4.17 in /usr/local/lib/python3.7/dist-packages (from requests>=2.19.0->tensorflow-datasets==3.2.1) (2022.6.15)\n",
            "Requirement already satisfied: idna<3,>=2.5 in /usr/local/lib/python3.7/dist-packages (from requests>=2.19.0->tensorflow-datasets==3.2.1) (2.10)\n",
            "Requirement already satisfied: googleapis-common-protos<2,>=1.52.0 in /usr/local/lib/python3.7/dist-packages (from tensorflow-metadata->tensorflow-datasets==3.2.1) (1.56.4)\n",
            "Installing collected packages: tensorflow-datasets\n",
            "  Attempting uninstall: tensorflow-datasets\n",
            "    Found existing installation: tensorflow-datasets 2.1.0\n",
            "    Uninstalling tensorflow-datasets-2.1.0:\n",
            "      Successfully uninstalled tensorflow-datasets-2.1.0\n",
            "Successfully installed tensorflow-datasets-3.2.1\n",
            "Looking in indexes: https://pypi.org/simple, https://us-python.pkg.dev/colab-wheels/public/simple/\n",
            "Requirement already satisfied: h5py==2.10.0 in /usr/local/lib/python3.7/dist-packages (2.10.0)\n",
            "Requirement already satisfied: numpy>=1.7 in /usr/local/lib/python3.7/dist-packages (from h5py==2.10.0) (1.21.6)\n",
            "Requirement already satisfied: six in /usr/local/lib/python3.7/dist-packages (from h5py==2.10.0) (1.15.0)\n"
          ]
        }
      ],
      "execution_count": null
    },
    {
      "cell_type": "markdown",
      "source": [
        "### Imports"
      ],
      "metadata": {
        "application/vnd.databricks.v1+cell": {
          "title": "",
          "showTitle": false,
          "inputWidgets": {},
          "nuid": "5928bed6-7197-4162-ab1b-8fa883dd148a"
        },
        "id": "xMtVW66ApRE3"
      }
    },
    {
      "cell_type": "code",
      "source": [
        "import argparse\n",
        "import matplotlib.pyplot as plt\n",
        "from tensorflow import keras\n",
        "from bigdl.orca import init_orca_context, stop_orca_context\n",
        "from bigdl.orca.learn.tf.estimator import Estimator\n",
        "from bigdl.orca import OrcaContext\n",
        "import tensorflow as tf\n",
        "import tensorflow_datasets as tfds\n",
        "import datetime\n",
        "import time\n",
        "from bigdl.orca.learn.tf.estimator import Estimator\n",
        "from tabulate import tabulate\n",
        "OrcaContext.log_output = False\n",
        "# OrcaContext.log_output = True # recommended to set it to True when running BigDL in Jupyter notebook (this will display terminal's  stdout and stderr in the Jupyter notebook)."
      ],
      "metadata": {
        "application/vnd.databricks.v1+cell": {
          "title": "",
          "showTitle": false,
          "inputWidgets": {},
          "nuid": "21001d77-d68f-4110-ae2c-8ae73a14753e"
        },
        "colab": {
          "base_uri": "https://localhost:8080/"
        },
        "id": "rTQlJMnfpRE4",
        "outputId": "1ca637b4-21b3-4f51-e5f5-ad0397f1c109"
      },
      "outputs": [
        {
          "output_type": "stream",
          "name": "stderr",
          "text": [
            "WARNING:tensorflow:From /usr/local/lib/python3.7/dist-packages/bigdl/orca/tfpark/zoo_optimizer.py:75: The name tf.train.Optimizer is deprecated. Please use tf.compat.v1.train.Optimizer instead.\n",
            "\n"
          ]
        }
      ],
      "execution_count": null
    },
    {
      "cell_type": "markdown",
      "source": [
        "## Utils"
      ],
      "metadata": {
        "application/vnd.databricks.v1+cell": {
          "title": "",
          "showTitle": false,
          "inputWidgets": {},
          "nuid": "5e391040-d5ae-4349-b86f-be91a6381cb0"
        },
        "id": "CgFSz5SXpRE5"
      }
    },
    {
      "cell_type": "code",
      "source": [
        "def train_test(model=None, train_data=None, test_data=None, preprocess=None, output_model_name=None, save_model=False, epochs=1, cluster_mode=\"spark-submit\", num_nodes=2, cores=2):\n",
        "    init_orca_context(cluster_mode=cluster_mode, num_modes=min(3, num_nodes), cores=min(4, cores))\n",
        "    if not model:\n",
        "        model = keras.Sequential(\n",
        "        [keras.layers.Conv2D(20, kernel_size=(5, 5), strides=(1, 1), activation='tanh',\n",
        "                             input_shape=(28, 28, 1), padding='valid'),\n",
        "         keras.layers.MaxPooling2D(pool_size=(2, 2), strides=(2, 2), padding='valid'),\n",
        "         keras.layers.Conv2D(50, kernel_size=(5, 5), strides=(1, 1), activation='tanh',\n",
        "                             padding='valid'),\n",
        "         keras.layers.MaxPooling2D(pool_size=(2, 2), strides=(2, 2), padding='valid'),\n",
        "         keras.layers.Flatten(),\n",
        "         keras.layers.Dense(500, activation='tanh'),\n",
        "         keras.layers.Dense(10, activation='softmax'),\n",
        "         ]\n",
        "        )\n",
        "\n",
        "        model.compile(optimizer=keras.optimizers.RMSprop(),\n",
        "          loss='sparse_categorical_crossentropy',\n",
        "          metrics=['accuracy'])\n",
        "    if not (train_data or test_data):\n",
        "        if not preprocess:\n",
        "            def preprocess(data):\n",
        "              data['image'] = tf.cast(data[\"image\"], tf.float32) / 255.\n",
        "              return data['image'], data['label']\n",
        "\n",
        "        # get DataSet\n",
        "        train_data = tfds.load(name=\"mnist\", split=\"train\", data_dir=\"gs://tfds-data/datasets\")\n",
        "        test_data = tfds.load(name=\"mnist\", split=\"test\", data_dir=\"gs://tfds-data/datasets\")\n",
        "\n",
        "        train_data = train_data.map(preprocess)\n",
        "        test_data = test_data.map(preprocess)\n",
        "    \n",
        "    # Disable AutoShard.\n",
        "    options = tf.data.Options()\n",
        "    options.experimental_distribute.auto_shard = False\n",
        "    train_data = train_data.with_options(options)\n",
        "    test_data = test_data.with_options(options)\n",
        "    \n",
        "    est = Estimator.from_keras(keras_model=model)\n",
        "    #This will come as an argument for the Function\n",
        "    #validation_data will be given as an argument in the Function\n",
        "    tic = time.time()\n",
        "    est.fit(\n",
        "        data=train_data,\n",
        "        batch_size=320,\n",
        "        epochs=epochs,\n",
        "        validation_data=test_data\n",
        "    )\n",
        "    tac = time.time()\n",
        "    fit_time = tac-tic\n",
        "    # evaluate and print result\n",
        "    # result = est.evaluate(test_data)\n",
        "    # print(result)\n",
        "    output_name = \"/tmp/\" + (f\"{output_model_name+str(datetime.datetime.now()) if output_model_name else str(datetime.datetime.now())}.h5\")\n",
        "    output_name = output_name.replace(\" \", \"_\")\n",
        "    if save_model:\n",
        "        est.save_keras_model(output_name)\n",
        "    # return output_name, fit_time, est\n",
        "    return output_name, fit_time\n",
        "\n",
        "def save_output(output_model_name, time, result_estimator):\n",
        "    print(f\"Saving output to: {output_model_name}\")\n",
        "    \n",
        "def visualize_output(output_model_name):\n",
        "    print(f\"Visualizing from: {output_model_name}\")\n",
        "\n",
        "def train_test_save(model=None, train_data=None, test_data=None, preprocess=None, output_model_name=None, save_model=False, epochs=10, cluster_mode=\"spark-submit\", num_nodes=2, cores=2):\n",
        "    output_model_name, fit_time = train_test(\n",
        "        model=model,\n",
        "        train_data=train_data,\n",
        "        test_data=test_data,\n",
        "        preprocess=preprocess,\n",
        "        output_model_name=output_model_name,\n",
        "        epochs=epochs,\n",
        "        cluster_mode=cluster_mode,\n",
        "        num_nodes=num_nodes,\n",
        "        cores=cores,\n",
        "        save_model=save_model\n",
        "    )\n",
        "    print(f\"---->>> {output_model_name}, {num_nodes} nodes, {cores} cores, fitted after {fit_time}sec\")\n",
        "    save_output(output_model_name, time, None)\n",
        "    visualize_output(output_model_name)\n",
        "    return output_model_name, fit_time\n",
        "\n",
        "def grid_search(model=None, train_data=None, test_data=None, preprocess=None, output_model_name=None, save_model=False, epochs=10, cluster_mode=\"spark-submit\", min_num_nodes=2, max_num_nodes=3, min_cores=1, max_cores=4):\n",
        "    results = []\n",
        "    assert min_num_nodes<=max_num_nodes\n",
        "    assert min_cores<=max_cores\n",
        "    for num_nodes in range(min_num_nodes, max_num_nodes):\n",
        "        for cores in range(min_cores, max_cores):\n",
        "            model_name, fit_time = train_test_save(\n",
        "                model=model,\n",
        "                train_data=train_data,\n",
        "                test_data=test_data,\n",
        "                preprocess=preprocess,\n",
        "                output_model_name=output_model_name,\n",
        "                epochs=epochs,\n",
        "                cluster_mode=cluster_mode,\n",
        "                num_nodes=num_nodes,\n",
        "                cores=cores,\n",
        "                save_model=save_model\n",
        "            )\n",
        "            results.append((model_name, num_nodes, cores, fit_time))\n",
        "    return results\n",
        "\n",
        "def visualize_grid_search(model_name, epochs, results):\n",
        "    xs, ys = [], []\n",
        "    for datum in results:\n",
        "        name, nodes, cores, fit_time = datum\n",
        "        xs.append(f\"{nodes}, {cores}\")\n",
        "        ys.append(fit_time/1000)\n",
        "        plt.bar(xs, ys)\n",
        "    items = zip(xs, ys)\n",
        "    print(items)\n",
        "    print(xs, ys)\n",
        "    print(tabulate(items, tablefmt=\"github\"))\n",
        "    plt.title(f\"{model_name}: {epochs} epochs\")\n",
        "    plt.xlabel(\"Nodes, Cores\")\n",
        "    plt.ylabel(\"Train time (*10^3 sec)\")\n",
        "    plt.plot()\n",
        "\n",
        "def tabulate_grid_search(model_name, epochs, results):\n",
        "    xs, ys = [], []\n",
        "    for datum in results:\n",
        "        name, nodes, cores, fit_time = datum\n",
        "        xs.append(f\"{nodes}, {cores}\")\n",
        "        ys.append(fit_time)\n",
        "    items = zip(xs, ys)\n",
        "    print(model_name)\n",
        "    print(tabulate(items, tablefmt=\"github\", headers=[\"Nodes, Cores\", \"fit_time (sec)\"]))"
      ],
      "metadata": {
        "application/vnd.databricks.v1+cell": {
          "title": "",
          "showTitle": false,
          "inputWidgets": {},
          "nuid": "2fb2b059-9a51-496d-b861-f202274b1537"
        },
        "id": "YKCi6j2IpRE5"
      },
      "outputs": [],
      "execution_count": null
    },
    {
      "cell_type": "markdown",
      "source": [
        "### Datasets"
      ],
      "metadata": {
        "application/vnd.databricks.v1+cell": {
          "title": "",
          "showTitle": false,
          "inputWidgets": {},
          "nuid": "2aad5f54-0b5d-4e12-a9a3-a25fe2fc780c"
        },
        "id": "Q5nRR97dpRE7"
      }
    },
    {
      "cell_type": "code",
      "source": [
        "## MNIST\n",
        "def preprocess(data):\n",
        "    data['image'] = tf.cast(data[\"image\"], tf.float32) / 255.\n",
        "#     data['image'] = tf.image.resize(data[\"image\"], (72, 72))\n",
        "#     data['image'] = tf.image.grayscale_to_rgb(data[\"image\"])\n",
        "    return data['image'], data['label']\n",
        "\n",
        "# get DataSet\n",
        "train_data_mnist = tfds.load(name=\"mnist\", split=\"train\", data_dir=\"gs://tfds-data/datasets\")\n",
        "test_data_mnist = tfds.load(name=\"mnist\", split=\"test\",  data_dir=\"gs://tfds-data/datasets\")\n",
        "\n",
        "train_data_mnist = train_data_mnist.map(preprocess)\n",
        "test_data_mnist = test_data_mnist.map(preprocess)"
      ],
      "metadata": {
        "application/vnd.databricks.v1+cell": {
          "title": "",
          "showTitle": false,
          "inputWidgets": {},
          "nuid": "273b6232-d2b6-4b9e-ae31-ed1cc817cf96"
        },
        "id": "guPIn707pRE7"
      },
      "outputs": [],
      "execution_count": null
    },
    {
      "cell_type": "code",
      "source": [
        "## Camelyon\n",
        "def preprocess_camelyon(data):\n",
        "    data['image'] = tf.cast(data[\"image\"], tf.float32) / 255.\n",
        "    \"\"\"data['image'] = tf.image.resize(data[\"image\"], (72, 72))\n",
        "    data['image'] = tf.image.grayscale_to_rgb(data[\"image\"])\"\"\"\n",
        "    return data['image'], data['label']\n",
        "\n",
        "train_data_chamelyon = tfds.load(name=\"patch_camelyon\", split=\"train\",  data_dir=\"gs://mybucket-bigdl-ece-ntua\")\n",
        "test_data_chamelyon = tfds.load(name=\"patch_camelyon\", split=\"test\",  data_dir=\"gs://mybucket-bigdl-ece-ntua\")\n",
        "\n",
        "train_data_chamelyon = train_data_chamelyon.map(preprocess_camelyon)\n",
        "test_data_chamelyon = test_data_chamelyon.map(preprocess_camelyon)\n"
      ],
      "metadata": {
        "application/vnd.databricks.v1+cell": {
          "title": "",
          "showTitle": false,
          "inputWidgets": {},
          "nuid": "eb0ad9ad-97ae-416c-94ad-6efa93f65e53"
        },
        "id": "lLJnW88mpRE7"
      },
      "outputs": [],
      "execution_count": null
    },
    {
      "cell_type": "markdown",
      "source": [
        "## Training for 1 epoch"
      ],
      "metadata": {
        "application/vnd.databricks.v1+cell": {
          "title": "",
          "showTitle": false,
          "inputWidgets": {},
          "nuid": "b22f72d9-3d4c-49d4-9d08-e621bd221f58"
        },
        "id": "LH2YCqURpRE8"
      }
    },
    {
      "cell_type": "code",
      "source": [
        "name = \"SimpleCNN\"\n",
        "\n",
        "epochs = 1\n",
        "min_num_nodes = 1\n",
        "max_num_nodes = 2\n",
        "min_cores = 1\n",
        "max_cores = 5\n",
        "\n",
        "current_training_data = train_data_mnist\n",
        "current_test_data = test_data_mnist\n",
        "\n",
        "results = grid_search(\n",
        "    cluster_mode=\"local\",\n",
        "    min_num_nodes=min_num_nodes,\n",
        "    max_num_nodes=max_num_nodes,\n",
        "    min_cores=min_cores,\n",
        "    max_cores=max_cores,\n",
        "    epochs=epochs,\n",
        "    train_data=current_training_data,\n",
        "    test_data=current_test_data,\n",
        "    output_model_name=\"simple\"\n",
        ")\n"
      ],
      "metadata": {
        "application/vnd.databricks.v1+cell": {
          "title": "",
          "showTitle": false,
          "inputWidgets": {},
          "nuid": "8ee4758c-e84e-464d-a502-90dd64ea6102"
        },
        "colab": {
          "base_uri": "https://localhost:8080/"
        },
        "id": "ueLIdvcWpRE8",
        "outputId": "e1835582-0643-42e9-eb8f-1f0b8670dea2"
      },
      "outputs": [
        {
          "output_type": "stream",
          "name": "stdout",
          "text": [
            "Initializing orca context\n",
            "Current pyspark location is : /usr/local/lib/python3.7/dist-packages/pyspark/__init__.py\n",
            "Start to getOrCreate SparkContext\n",
            "pyspark_submit_args is:  --driver-class-path /usr/local/lib/python3.7/dist-packages/bigdl/share/orca/lib/bigdl-orca-spark_2.4.6-2.1.0-SNAPSHOT-jar-with-dependencies.jar:/usr/local/lib/python3.7/dist-packages/bigdl/share/dllib/lib/bigdl-dllib-spark_2.4.6-2.1.0-SNAPSHOT-jar-with-dependencies.jar:/usr/local/lib/python3.7/dist-packages/bigdl/share/core/lib/all-2.1.0-20220830.075029-19.jar pyspark-shell \n"
          ]
        },
        {
          "output_type": "stream",
          "name": "stderr",
          "text": [
            "WARNING:tensorflow:From /usr/local/lib/python3.7/dist-packages/tensorflow_core/python/ops/resource_variable_ops.py:1630: calling BaseResourceVariable.__init__ (from tensorflow.python.ops.resource_variable_ops) with constraint is deprecated and will be removed in a future version.\n",
            "Instructions for updating:\n",
            "If using Keras pass *_constraint arguments to layers.\n"
          ]
        },
        {
          "output_type": "stream",
          "name": "stdout",
          "text": [
            "Successfully got a SparkContext\n"
          ]
        },
        {
          "output_type": "stream",
          "name": "stderr",
          "text": [
            "WARNING:tensorflow:From /usr/local/lib/python3.7/dist-packages/bigdl/orca/tfpark/tf_dataset.py:762: The name tf.get_default_graph is deprecated. Please use tf.compat.v1.get_default_graph instead.\n",
            "\n",
            "WARNING:tensorflow:From /usr/local/lib/python3.7/dist-packages/bigdl/orca/tfpark/tf_dataset.py:830: The name tf.placeholder is deprecated. Please use tf.compat.v1.placeholder instead.\n",
            "\n",
            "WARNING:tensorflow:From /usr/local/lib/python3.7/dist-packages/bigdl/orca/tfpark/tf_dataset.py:863: The name tf.tables_initializer is deprecated. Please use tf.compat.v1.tables_initializer instead.\n",
            "\n",
            "WARNING:tensorflow:From /usr/local/lib/python3.7/dist-packages/bigdl/orca/tfpark/tf_dataset.py:220: The name tf.add_to_collection is deprecated. Please use tf.compat.v1.add_to_collection instead.\n",
            "\n",
            "WARNING:tensorflow:From /usr/local/lib/python3.7/dist-packages/bigdl/orca/tfpark/tf_optimizer.py:673: The name tf.keras.backend.get_session is deprecated. Please use tf.compat.v1.keras.backend.get_session instead.\n",
            "\n",
            "WARNING:tensorflow:OMP_NUM_THREADS is no longer used by the default Keras config. To configure the number of threads, use tf.config.threading APIs.\n",
            "WARNING:tensorflow:From /usr/local/lib/python3.7/dist-packages/bigdl/orca/tfpark/tf_optimizer.py:299: to_float (from tensorflow.python.ops.math_ops) is deprecated and will be removed in a future version.\n",
            "Instructions for updating:\n",
            "Use `tf.cast` instead.\n",
            "WARNING:tensorflow:From /usr/local/lib/python3.7/dist-packages/bigdl/orca/tfpark/tf_optimizer.py:163: The name tf.is_numeric_tensor is deprecated. Please use tf.debugging.is_numeric_tensor instead.\n",
            "\n",
            "WARNING:tensorflow:From /usr/local/lib/python3.7/dist-packages/bigdl/orca/tfpark/tf_optimizer.py:191: The name tf.GraphKeys is deprecated. Please use tf.compat.v1.GraphKeys instead.\n",
            "\n",
            "WARNING:tensorflow:From /usr/local/lib/python3.7/dist-packages/bigdl/orca/tfpark/tf_optimizer.py:206: The name tf.assign is deprecated. Please use tf.compat.v1.assign instead.\n",
            "\n",
            "WARNING:tensorflow:From /usr/local/lib/python3.7/dist-packages/bigdl/orca/tfpark/tf_optimizer.py:247: The name tf.train.Saver is deprecated. Please use tf.compat.v1.train.Saver instead.\n",
            "\n"
          ]
        },
        {
          "output_type": "stream",
          "name": "stdout",
          "text": [
            "creating: createZooKerasSparseCategoricalCrossEntropy\n",
            "creating: createLoss\n",
            "creating: createZooKerasSparseCategoricalAccuracy\n",
            "creating: createFakeOptimMethod\n",
            "creating: createTFValidationMethod\n",
            "creating: createTFValidationMethod\n"
          ]
        },
        {
          "output_type": "stream",
          "name": "stderr",
          "text": [
            "WARNING:tensorflow:From /usr/local/lib/python3.7/dist-packages/bigdl/orca/tfpark/tf_optimizer.py:289: The name tf.gfile.GFile is deprecated. Please use tf.io.gfile.GFile instead.\n",
            "\n"
          ]
        },
        {
          "output_type": "stream",
          "name": "stdout",
          "text": [
            "creating: createTFTrainingHelper\n",
            "creating: createIdentityCriterion\n",
            "creating: createEstimator\n",
            "creating: createMaxEpoch\n",
            "creating: createEveryEpoch\n",
            "---->>> /tmp/simple2022-09-20_06:54:40.275934.h5, 1 nodes, 1 cores, fitted after 93.10098314285278sec\n",
            "Saving output to: /tmp/simple2022-09-20_06:54:40.275934.h5\n",
            "Visualizing from: /tmp/simple2022-09-20_06:54:40.275934.h5\n",
            "Initializing orca context\n"
          ]
        },
        {
          "output_type": "stream",
          "name": "stderr",
          "text": [
            "/usr/local/lib/python3.7/dist-packages/bigdl/orca/common.py:251: Warning: Use an existing SparkContext, cluster_mode is determined by the existing SparkContext\n",
            "  \"cluster_mode is determined by the existing SparkContext\", Warning)\n"
          ]
        },
        {
          "output_type": "stream",
          "name": "stdout",
          "text": [
            "creating: createZooKerasSparseCategoricalCrossEntropy\n",
            "creating: createLoss\n",
            "creating: createZooKerasSparseCategoricalAccuracy\n",
            "creating: createFakeOptimMethod\n",
            "creating: createTFValidationMethod\n",
            "creating: createTFValidationMethod\n",
            "creating: createTFTrainingHelper\n",
            "creating: createIdentityCriterion\n",
            "creating: createEstimator\n",
            "creating: createMaxEpoch\n",
            "creating: createEveryEpoch\n",
            "---->>> /tmp/simple2022-09-20_06:56:08.024091.h5, 1 nodes, 2 cores, fitted after 87.336998462677sec\n",
            "Saving output to: /tmp/simple2022-09-20_06:56:08.024091.h5\n",
            "Visualizing from: /tmp/simple2022-09-20_06:56:08.024091.h5\n",
            "Initializing orca context\n"
          ]
        },
        {
          "output_type": "stream",
          "name": "stderr",
          "text": [
            "/usr/local/lib/python3.7/dist-packages/bigdl/orca/common.py:251: Warning: Use an existing SparkContext, cluster_mode is determined by the existing SparkContext\n",
            "  \"cluster_mode is determined by the existing SparkContext\", Warning)\n"
          ]
        },
        {
          "output_type": "stream",
          "name": "stdout",
          "text": [
            "creating: createZooKerasSparseCategoricalCrossEntropy\n",
            "creating: createLoss\n",
            "creating: createZooKerasSparseCategoricalAccuracy\n",
            "creating: createFakeOptimMethod\n",
            "creating: createTFValidationMethod\n",
            "creating: createTFValidationMethod\n",
            "creating: createTFTrainingHelper\n",
            "creating: createIdentityCriterion\n",
            "creating: createEstimator\n",
            "creating: createMaxEpoch\n",
            "creating: createEveryEpoch\n",
            "---->>> /tmp/simple2022-09-20_06:57:26.902044.h5, 1 nodes, 3 cores, fitted after 78.68075180053711sec\n",
            "Saving output to: /tmp/simple2022-09-20_06:57:26.902044.h5\n",
            "Visualizing from: /tmp/simple2022-09-20_06:57:26.902044.h5\n",
            "Initializing orca context\n"
          ]
        },
        {
          "output_type": "stream",
          "name": "stderr",
          "text": [
            "/usr/local/lib/python3.7/dist-packages/bigdl/orca/common.py:251: Warning: Use an existing SparkContext, cluster_mode is determined by the existing SparkContext\n",
            "  \"cluster_mode is determined by the existing SparkContext\", Warning)\n"
          ]
        },
        {
          "output_type": "stream",
          "name": "stdout",
          "text": [
            "creating: createZooKerasSparseCategoricalCrossEntropy\n",
            "creating: createLoss\n",
            "creating: createZooKerasSparseCategoricalAccuracy\n",
            "creating: createFakeOptimMethod\n",
            "creating: createTFValidationMethod\n",
            "creating: createTFValidationMethod\n",
            "creating: createTFTrainingHelper\n",
            "creating: createIdentityCriterion\n",
            "creating: createEstimator\n",
            "creating: createMaxEpoch\n",
            "creating: createEveryEpoch\n",
            "---->>> /tmp/simple2022-09-20_06:58:45.890722.h5, 1 nodes, 4 cores, fitted after 78.82855463027954sec\n",
            "Saving output to: /tmp/simple2022-09-20_06:58:45.890722.h5\n",
            "Visualizing from: /tmp/simple2022-09-20_06:58:45.890722.h5\n"
          ]
        }
      ],
      "execution_count": null
    },
    {
      "cell_type": "code",
      "source": [
        "visualize_grid_search(\"Simple CNN\", epochs, results)"
      ],
      "metadata": {
        "application/vnd.databricks.v1+cell": {
          "title": "",
          "showTitle": false,
          "inputWidgets": {},
          "nuid": "e257f66c-8662-49f8-8aef-fba6e8807ea2"
        },
        "colab": {
          "base_uri": "https://localhost:8080/",
          "height": 416
        },
        "id": "oE7nKArcpRE8",
        "outputId": "79b65d03-c4ef-43f4-b5dc-f8b97058473c"
      },
      "outputs": [
        {
          "output_type": "stream",
          "name": "stdout",
          "text": [
            "<zip object at 0x7fd7ae99cb90>\n",
            "['1, 1', '1, 2', '1, 3', '1, 4'] [0.09310098314285278, 0.087336998462677, 0.07868075180053712, 0.07882855463027955]\n",
            "|------|-----------|\n",
            "| 1, 1 | 0.093101  |\n",
            "| 1, 2 | 0.087337  |\n",
            "| 1, 3 | 0.0786808 |\n",
            "| 1, 4 | 0.0788286 |\n"
          ]
        },
        {
          "output_type": "display_data",
          "data": {
            "text/plain": [
              "<Figure size 432x288 with 1 Axes>"
            ],
            "image/png": "[encoded data removed]"
          },
          "metadata": {
            "needs_background": "light"
          }
        }
      ],
      "execution_count": null
    },
    {
      "cell_type": "code",
      "source": [
        "tabulate_grid_search(\"Simple CNN\", epochs, results)"
      ],
      "metadata": {
        "application/vnd.databricks.v1+cell": {
          "title": "",
          "showTitle": false,
          "inputWidgets": {},
          "nuid": "b6bae4a9-4ca7-4be2-8347-5995a05e55dd"
        },
        "colab": {
          "base_uri": "https://localhost:8080/"
        },
        "id": "jzSa8EivpRE8",
        "outputId": "8ca6c6e2-dde3-49aa-e69f-8933482e8955"
      },
      "outputs": [
        {
          "output_type": "stream",
          "name": "stdout",
          "text": [
            "Simple CNN\n",
            "| Nodes, Cores   |   fit_time (sec) |\n",
            "|----------------|------------------|\n",
            "| 1, 1           |          93.101  |\n",
            "| 1, 2           |          87.337  |\n",
            "| 1, 3           |          78.6808 |\n",
            "| 1, 4           |          78.8286 |\n"
          ]
        }
      ],
      "execution_count": null
    },
    {
      "cell_type": "markdown",
      "source": [
        "## Training for 2 epochs"
      ],
      "metadata": {
        "application/vnd.databricks.v1+cell": {
          "title": "",
          "showTitle": false,
          "inputWidgets": {},
          "nuid": "87dd5e29-eeaa-47f7-bd05-1edd7f31e921"
        },
        "id": "jFZtLUtCpRE9"
      }
    },
    {
      "cell_type": "code",
      "source": [
        "name = \"SimpleCNN\"\n",
        "\n",
        "epochs = 2\n",
        "min_num_nodes = 1\n",
        "max_num_nodes = 2\n",
        "min_cores = 1\n",
        "max_cores = 5\n",
        "\n",
        "current_training_data = train_data_mnist\n",
        "current_test_data = test_data_mnist\n",
        "\n",
        "results2 = grid_search(\n",
        "    cluster_mode=\"local\",\n",
        "    min_num_nodes=min_num_nodes,\n",
        "    max_num_nodes=max_num_nodes,\n",
        "    min_cores=min_cores,\n",
        "    max_cores=max_cores,\n",
        "    epochs=epochs,\n",
        "    train_data=current_training_data,\n",
        "    test_data=current_test_data,\n",
        "    output_model_name=\"simple\"\n",
        ")\n"
      ],
      "metadata": {
        "application/vnd.databricks.v1+cell": {
          "title": "",
          "showTitle": false,
          "inputWidgets": {},
          "nuid": "76dd54ea-0684-4483-89c1-bc96d6c46e20"
        },
        "colab": {
          "base_uri": "https://localhost:8080/"
        },
        "id": "ZyZkUrlqpRE9",
        "outputId": "82c8ef09-dee4-4ed7-bd81-5b1d38b183e8"
      },
      "outputs": [
        {
          "output_type": "stream",
          "name": "stdout",
          "text": [
            "Initializing orca context\n"
          ]
        },
        {
          "output_type": "stream",
          "name": "stderr",
          "text": [
            "/usr/local/lib/python3.7/dist-packages/bigdl/orca/common.py:251: Warning: Use an existing SparkContext, cluster_mode is determined by the existing SparkContext\n",
            "  \"cluster_mode is determined by the existing SparkContext\", Warning)\n"
          ]
        },
        {
          "output_type": "stream",
          "name": "stdout",
          "text": [
            "creating: createZooKerasSparseCategoricalCrossEntropy\n",
            "creating: createLoss\n",
            "creating: createZooKerasSparseCategoricalAccuracy\n",
            "creating: createFakeOptimMethod\n",
            "creating: createTFValidationMethod\n",
            "creating: createTFValidationMethod\n",
            "creating: createTFTrainingHelper\n",
            "creating: createIdentityCriterion\n",
            "creating: createEstimator\n",
            "creating: createMaxEpoch\n",
            "creating: createEveryEpoch\n",
            "---->>> /tmp/simple2022-09-20_07:01:41.894737.h5, 1 nodes, 1 cores, fitted after 153.67362070083618sec\n",
            "Saving output to: /tmp/simple2022-09-20_07:01:41.894737.h5\n",
            "Visualizing from: /tmp/simple2022-09-20_07:01:41.894737.h5\n",
            "Initializing orca context\n"
          ]
        },
        {
          "output_type": "stream",
          "name": "stderr",
          "text": [
            "/usr/local/lib/python3.7/dist-packages/bigdl/orca/common.py:251: Warning: Use an existing SparkContext, cluster_mode is determined by the existing SparkContext\n",
            "  \"cluster_mode is determined by the existing SparkContext\", Warning)\n"
          ]
        },
        {
          "output_type": "stream",
          "name": "stdout",
          "text": [
            "creating: createZooKerasSparseCategoricalCrossEntropy\n",
            "creating: createLoss\n",
            "creating: createZooKerasSparseCategoricalAccuracy\n",
            "creating: createFakeOptimMethod\n",
            "creating: createTFValidationMethod\n",
            "creating: createTFValidationMethod\n",
            "creating: createTFTrainingHelper\n",
            "creating: createIdentityCriterion\n",
            "creating: createEstimator\n",
            "creating: createMaxEpoch\n",
            "creating: createEveryEpoch\n",
            "---->>> /tmp/simple2022-09-20_07:04:16.724641.h5, 1 nodes, 2 cores, fitted after 154.6609435081482sec\n",
            "Saving output to: /tmp/simple2022-09-20_07:04:16.724641.h5\n",
            "Visualizing from: /tmp/simple2022-09-20_07:04:16.724641.h5\n",
            "Initializing orca context\n"
          ]
        },
        {
          "output_type": "stream",
          "name": "stderr",
          "text": [
            "/usr/local/lib/python3.7/dist-packages/bigdl/orca/common.py:251: Warning: Use an existing SparkContext, cluster_mode is determined by the existing SparkContext\n",
            "  \"cluster_mode is determined by the existing SparkContext\", Warning)\n"
          ]
        },
        {
          "output_type": "stream",
          "name": "stdout",
          "text": [
            "creating: createZooKerasSparseCategoricalCrossEntropy\n",
            "creating: createLoss\n",
            "creating: createZooKerasSparseCategoricalAccuracy\n",
            "creating: createFakeOptimMethod\n",
            "creating: createTFValidationMethod\n",
            "creating: createTFValidationMethod\n",
            "creating: createTFTrainingHelper\n",
            "creating: createIdentityCriterion\n",
            "creating: createEstimator\n",
            "creating: createMaxEpoch\n",
            "creating: createEveryEpoch\n",
            "---->>> /tmp/simple2022-09-20_07:06:38.526613.h5, 1 nodes, 3 cores, fitted after 141.61500453948975sec\n",
            "Saving output to: /tmp/simple2022-09-20_07:06:38.526613.h5\n",
            "Visualizing from: /tmp/simple2022-09-20_07:06:38.526613.h5\n",
            "Initializing orca context\n"
          ]
        },
        {
          "output_type": "stream",
          "name": "stderr",
          "text": [
            "/usr/local/lib/python3.7/dist-packages/bigdl/orca/common.py:251: Warning: Use an existing SparkContext, cluster_mode is determined by the existing SparkContext\n",
            "  \"cluster_mode is determined by the existing SparkContext\", Warning)\n"
          ]
        },
        {
          "output_type": "stream",
          "name": "stdout",
          "text": [
            "creating: createZooKerasSparseCategoricalCrossEntropy\n",
            "creating: createLoss\n",
            "creating: createZooKerasSparseCategoricalAccuracy\n",
            "creating: createFakeOptimMethod\n",
            "creating: createTFValidationMethod\n",
            "creating: createTFValidationMethod\n",
            "creating: createTFTrainingHelper\n",
            "creating: createIdentityCriterion\n",
            "creating: createEstimator\n",
            "creating: createMaxEpoch\n",
            "creating: createEveryEpoch\n",
            "---->>> /tmp/simple2022-09-20_07:09:18.331914.h5, 1 nodes, 4 cores, fitted after 159.5844588279724sec\n",
            "Saving output to: /tmp/simple2022-09-20_07:09:18.331914.h5\n",
            "Visualizing from: /tmp/simple2022-09-20_07:09:18.331914.h5\n"
          ]
        }
      ],
      "execution_count": null
    },
    {
      "cell_type": "code",
      "source": [
        "visualize_grid_search(\"Simple CNN\", epochs, results2)"
      ],
      "metadata": {
        "application/vnd.databricks.v1+cell": {
          "title": "",
          "showTitle": false,
          "inputWidgets": {},
          "nuid": "17d3e7a0-ee3d-491c-a3e5-dda3eea687ff"
        },
        "colab": {
          "base_uri": "https://localhost:8080/",
          "height": 416
        },
        "id": "h9aycMClpRE9",
        "outputId": "9f945945-8bc6-43b6-a6db-afee98ba3367"
      },
      "outputs": [
        {
          "output_type": "stream",
          "name": "stdout",
          "text": [
            "<zip object at 0x7fd7ad6df780>\n",
            "['1, 1', '1, 2', '1, 3', '1, 4'] [0.15367362070083618, 0.15466094350814819, 0.14161500453948975, 0.15958445882797243]\n",
            "|------|----------|\n",
            "| 1, 1 | 0.153674 |\n",
            "| 1, 2 | 0.154661 |\n",
            "| 1, 3 | 0.141615 |\n",
            "| 1, 4 | 0.159584 |\n"
          ]
        },
        {
          "output_type": "display_data",
          "data": {
            "text/plain": [
              "<Figure size 432x288 with 1 Axes>"
            ],
            "image/png": "[encoded data removed]"
          },
          "metadata": {
            "needs_background": "light"
          }
        }
      ],
      "execution_count": null
    },
    {
      "cell_type": "code",
      "source": [
        "tabulate_grid_search(\"Simple CNN\", epochs, results2)"
      ],
      "metadata": {
        "application/vnd.databricks.v1+cell": {
          "title": "",
          "showTitle": false,
          "inputWidgets": {},
          "nuid": "c27d2c29-bb64-48a4-ad4f-b178b61af562"
        },
        "colab": {
          "base_uri": "https://localhost:8080/"
        },
        "id": "5gQgW6ABpRE9",
        "outputId": "2b23089d-05e0-4465-a18b-0ed24b0f8edf"
      },
      "outputs": [
        {
          "output_type": "stream",
          "name": "stdout",
          "text": [
            "Simple CNN\n",
            "| Nodes, Cores   |   fit_time (sec) |\n",
            "|----------------|------------------|\n",
            "| 1, 1           |          153.674 |\n",
            "| 1, 2           |          154.661 |\n",
            "| 1, 3           |          141.615 |\n",
            "| 1, 4           |          159.584 |\n"
          ]
        }
      ],
      "execution_count": null
    },
    {
      "cell_type": "markdown",
      "source": [
        "## Training for 5 epochs"
      ],
      "metadata": {
        "application/vnd.databricks.v1+cell": {
          "title": "",
          "showTitle": false,
          "inputWidgets": {},
          "nuid": "8c7d1a51-ba65-4aa1-aba1-1579293ec88b"
        },
        "id": "mhHuoIJqpRE9"
      }
    },
    {
      "cell_type": "code",
      "source": [
        "name = \"SimpleCNN\"\n",
        "\n",
        "epochs = 5\n",
        "min_num_nodes = 1\n",
        "max_num_nodes = 2\n",
        "min_cores = 1\n",
        "max_cores = 5\n",
        "\n",
        "current_training_data = train_data_mnist\n",
        "current_test_data = test_data_mnist\n",
        "\n",
        "results5 = grid_search(\n",
        "    cluster_mode=\"local\",\n",
        "    min_num_nodes=min_num_nodes,\n",
        "    max_num_nodes=max_num_nodes,\n",
        "    min_cores=min_cores,\n",
        "    max_cores=max_cores,\n",
        "    epochs=epochs,\n",
        "    train_data=current_training_data,\n",
        "    test_data=current_test_data,\n",
        "    output_model_name=\"simple\"\n",
        ")\n"
      ],
      "metadata": {
        "application/vnd.databricks.v1+cell": {
          "title": "",
          "showTitle": false,
          "inputWidgets": {},
          "nuid": "741bda87-2890-49aa-bb50-db196c1dd8d2"
        },
        "colab": {
          "base_uri": "https://localhost:8080/"
        },
        "id": "chybOd0ypRE9",
        "outputId": "3500213d-9d51-4522-e5fc-5de47fac63cb"
      },
      "outputs": [
        {
          "output_type": "stream",
          "name": "stdout",
          "text": [
            "Initializing orca context\n"
          ]
        },
        {
          "output_type": "stream",
          "name": "stderr",
          "text": [
            "/usr/local/lib/python3.7/dist-packages/bigdl/orca/common.py:251: Warning: Use an existing SparkContext, cluster_mode is determined by the existing SparkContext\n",
            "  \"cluster_mode is determined by the existing SparkContext\", Warning)\n"
          ]
        },
        {
          "output_type": "stream",
          "name": "stdout",
          "text": [
            "creating: createZooKerasSparseCategoricalCrossEntropy\n",
            "creating: createLoss\n",
            "creating: createZooKerasSparseCategoricalAccuracy\n",
            "creating: createFakeOptimMethod\n",
            "creating: createTFValidationMethod\n",
            "creating: createTFValidationMethod\n",
            "creating: createTFTrainingHelper\n",
            "creating: createIdentityCriterion\n",
            "creating: createEstimator\n",
            "creating: createMaxEpoch\n",
            "creating: createEveryEpoch\n",
            "---->>> /tmp/simple2022-09-20_07:14:34.860278.h5, 1 nodes, 1 cores, fitted after 316.113085269928sec\n",
            "Saving output to: /tmp/simple2022-09-20_07:14:34.860278.h5\n",
            "Visualizing from: /tmp/simple2022-09-20_07:14:34.860278.h5\n",
            "Initializing orca context\n"
          ]
        },
        {
          "output_type": "stream",
          "name": "stderr",
          "text": [
            "/usr/local/lib/python3.7/dist-packages/bigdl/orca/common.py:251: Warning: Use an existing SparkContext, cluster_mode is determined by the existing SparkContext\n",
            "  \"cluster_mode is determined by the existing SparkContext\", Warning)\n"
          ]
        },
        {
          "output_type": "stream",
          "name": "stdout",
          "text": [
            "creating: createZooKerasSparseCategoricalCrossEntropy\n",
            "creating: createLoss\n",
            "creating: createZooKerasSparseCategoricalAccuracy\n",
            "creating: createFakeOptimMethod\n",
            "creating: createTFValidationMethod\n",
            "creating: createTFValidationMethod\n",
            "creating: createTFTrainingHelper\n",
            "creating: createIdentityCriterion\n",
            "creating: createEstimator\n",
            "creating: createMaxEpoch\n",
            "creating: createEveryEpoch\n",
            "---->>> /tmp/simple2022-09-20_07:20:48.234549.h5, 1 nodes, 2 cores, fitted after 373.19031262397766sec\n",
            "Saving output to: /tmp/simple2022-09-20_07:20:48.234549.h5\n",
            "Visualizing from: /tmp/simple2022-09-20_07:20:48.234549.h5\n",
            "Initializing orca context\n"
          ]
        },
        {
          "output_type": "stream",
          "name": "stderr",
          "text": [
            "/usr/local/lib/python3.7/dist-packages/bigdl/orca/common.py:251: Warning: Use an existing SparkContext, cluster_mode is determined by the existing SparkContext\n",
            "  \"cluster_mode is determined by the existing SparkContext\", Warning)\n"
          ]
        },
        {
          "output_type": "stream",
          "name": "stdout",
          "text": [
            "creating: createZooKerasSparseCategoricalCrossEntropy\n",
            "creating: createLoss\n",
            "creating: createZooKerasSparseCategoricalAccuracy\n",
            "creating: createFakeOptimMethod\n",
            "creating: createTFValidationMethod\n",
            "creating: createTFValidationMethod\n",
            "creating: createTFTrainingHelper\n",
            "creating: createIdentityCriterion\n",
            "creating: createEstimator\n",
            "creating: createMaxEpoch\n",
            "creating: createEveryEpoch\n",
            "---->>> /tmp/simple2022-09-20_07:26:14.354204.h5, 1 nodes, 3 cores, fitted after 325.9302535057068sec\n",
            "Saving output to: /tmp/simple2022-09-20_07:26:14.354204.h5\n",
            "Visualizing from: /tmp/simple2022-09-20_07:26:14.354204.h5\n",
            "Initializing orca context\n"
          ]
        },
        {
          "output_type": "stream",
          "name": "stderr",
          "text": [
            "/usr/local/lib/python3.7/dist-packages/bigdl/orca/common.py:251: Warning: Use an existing SparkContext, cluster_mode is determined by the existing SparkContext\n",
            "  \"cluster_mode is determined by the existing SparkContext\", Warning)\n"
          ]
        },
        {
          "output_type": "stream",
          "name": "stdout",
          "text": [
            "creating: createZooKerasSparseCategoricalCrossEntropy\n",
            "creating: createLoss\n",
            "creating: createZooKerasSparseCategoricalAccuracy\n",
            "creating: createFakeOptimMethod\n",
            "creating: createTFValidationMethod\n",
            "creating: createTFValidationMethod\n",
            "creating: createTFTrainingHelper\n",
            "creating: createIdentityCriterion\n",
            "creating: createEstimator\n",
            "creating: createMaxEpoch\n",
            "creating: createEveryEpoch\n",
            "---->>> /tmp/simple2022-09-20_07:31:45.464893.h5, 1 nodes, 4 cores, fitted after 330.9294068813324sec\n",
            "Saving output to: /tmp/simple2022-09-20_07:31:45.464893.h5\n",
            "Visualizing from: /tmp/simple2022-09-20_07:31:45.464893.h5\n"
          ]
        }
      ],
      "execution_count": null
    },
    {
      "cell_type": "code",
      "source": [
        "visualize_grid_search(\"Simple CNN\", epochs, results5)"
      ],
      "metadata": {
        "application/vnd.databricks.v1+cell": {
          "title": "",
          "showTitle": false,
          "inputWidgets": {},
          "nuid": "8854f353-3076-41ff-a795-990cf1118522"
        },
        "colab": {
          "base_uri": "https://localhost:8080/"
        },
        "id": "7LkIRLpnpRE-",
        "outputId": "08653cd9-6901-419a-af87-f59921d60432"
      },
      "outputs": [
        {
          "output_type": "stream",
          "name": "stdout",
          "text": [
            "<zip object at 0x7fd7ac31a4b0>\n",
            "['1, 1', '1, 2', '1, 3', '1, 4'] [0.316113085269928, 0.37319031262397767, 0.3259302535057068, 0.3309294068813324]\n",
            "|------|----------|\n",
            "| 1, 1 | 0.316113 |\n",
            "| 1, 2 | 0.37319  |\n",
            "| 1, 3 | 0.32593  |\n",
            "| 1, 4 | 0.330929 |\n"
          ]
        },
        {
          "output_type": "display_data",
          "data": {
            "text/plain": [
              "<Figure size 432x288 with 1 Axes>"
            ],
            "image/png": "[encoded data removed]"
          },
          "metadata": {
            "needs_background": "light"
          }
        }
      ],
      "execution_count": null
    },
    {
      "cell_type": "code",
      "source": [
        "tabulate_grid_search(\"Simple CNN\", epochs, results5)"
      ],
      "metadata": {
        "application/vnd.databricks.v1+cell": {
          "title": "",
          "showTitle": false,
          "inputWidgets": {},
          "nuid": "79ed4d95-226a-44cc-a543-476965053dae"
        },
        "colab": {
          "base_uri": "https://localhost:8080/"
        },
        "id": "IgzgMXl5pRE-",
        "outputId": "81a932de-1bb8-4a0f-8fe5-4b19bd401f5e"
      },
      "outputs": [
        {
          "output_type": "stream",
          "name": "stdout",
          "text": [
            "Simple CNN\n",
            "| Nodes, Cores   |   fit_time (sec) |\n",
            "|----------------|------------------|\n",
            "| 1, 1           |          316.113 |\n",
            "| 1, 2           |          373.19  |\n",
            "| 1, 3           |          325.93  |\n",
            "| 1, 4           |          330.929 |\n"
          ]
        }
      ],
      "execution_count": null
    }
  ],
  "metadata": {
    "application/vnd.databricks.v1+notebook": {
      "notebookName": "Simple_CNN_mnist",
      "dashboards": [],
      "notebookMetadata": {
        "pythonIndentUnit": 4
      },
      "language": "python",
      "widgets": {},
      "notebookOrigID": 528616320304707
    },
    "colab": {
      "provenance": []
    },
    "language_info": {
      "name": "python"
    },
    "kernelspec": {
      "name": "python3",
      "display_name": "Python 3"
    }
  },
  "nbformat": 4,
  "nbformat_minor": 0
}